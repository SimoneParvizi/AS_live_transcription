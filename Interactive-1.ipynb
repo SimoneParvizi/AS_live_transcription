{
 "cells": [
  {
   "cell_type": "markdown",
   "metadata": {
    "isInteractiveWindowMessageCell": true
   },
   "source": [
    "Connected to Python 3.11.7"
   ]
  },
  {
   "cell_type": "code",
   "execution_count": 1,
   "metadata": {},
   "outputs": [
    {
     "name": "stderr",
     "output_type": "stream",
     "text": [
      "C:\\Users\\simon\\AppData\\Local\\Packages\\PythonSoftwareFoundation.Python.3.11_qbz5n2kfra8p0\\LocalCache\\local-packages\\Python311\\site-packages\\tqdm\\auto.py:21: TqdmWarning: IProgress not found. Please update jupyter and ipywidgets. See https://ipywidgets.readthedocs.io/en/stable/user_install.html\n",
      "  from .autonotebook import tqdm as notebook_tqdm\n"
     ]
    },
    {
     "ename": "TypeError",
     "evalue": "argument of type 'NoneType' is not iterable",
     "output_type": "error",
     "traceback": [
      "\u001b[1;31m---------------------------------------------------------------------------\u001b[0m",
      "\u001b[1;31mTypeError\u001b[0m                                 Traceback (most recent call last)",
      "\u001b[1;32mc:\\Users\\simon\\Desktop\\AS_live_transcription\\transcriber.py\u001b[0m in \u001b[0;36mline 4\n\u001b[0;32m      <a href='file:///c%3A/Users/simon/Desktop/AS_live_transcription/transcriber.py?line=1'>2</a>\u001b[0m \u001b[39mfrom\u001b[39;00m \u001b[39mfaster_whisper\u001b[39;00m \u001b[39mimport\u001b[39;00m WhisperModel\n\u001b[0;32m      <a href='file:///c%3A/Users/simon/Desktop/AS_live_transcription/transcriber.py?line=2'>3</a>\u001b[0m \u001b[39mimport\u001b[39;00m \u001b[39mconfig\u001b[39;00m\n\u001b[1;32m----> <a href='file:///c%3A/Users/simon/Desktop/AS_live_transcription/transcriber.py?line=3'>4</a>\u001b[0m \u001b[39mimport\u001b[39;00m \u001b[39mwhisper\u001b[39;00m\n\u001b[0;32m      <a href='file:///c%3A/Users/simon/Desktop/AS_live_transcription/transcriber.py?line=4'>5</a>\u001b[0m \u001b[39mimport\u001b[39;00m \u001b[39mos\u001b[39;00m\u001b[39m,\u001b[39m \u001b[39mglob\u001b[39;00m\n",
      "File \u001b[1;32m~\\AppData\\Local\\Packages\\PythonSoftwareFoundation.Python.3.11_qbz5n2kfra8p0\\LocalCache\\local-packages\\Python311\\site-packages\\whisper.py:69\u001b[0m\n\u001b[0;32m     <a href='file:///c%3A/Users/simon/AppData/Local/Packages/PythonSoftwareFoundation.Python.3.11_qbz5n2kfra8p0/LocalCache/local-packages/Python311/site-packages/whisper.py?line=66'>67</a>\u001b[0m \u001b[39mif\u001b[39;00m CAN_FALLOCATE:\n\u001b[0;32m     <a href='file:///c%3A/Users/simon/AppData/Local/Packages/PythonSoftwareFoundation.Python.3.11_qbz5n2kfra8p0/LocalCache/local-packages/Python311/site-packages/whisper.py?line=67'>68</a>\u001b[0m   libc_name \u001b[39m=\u001b[39m ctypes\u001b[39m.\u001b[39mutil\u001b[39m.\u001b[39mfind_library(\u001b[39m'\u001b[39m\u001b[39mc\u001b[39m\u001b[39m'\u001b[39m)\n\u001b[1;32m---> <a href='file:///c%3A/Users/simon/AppData/Local/Packages/PythonSoftwareFoundation.Python.3.11_qbz5n2kfra8p0/LocalCache/local-packages/Python311/site-packages/whisper.py?line=68'>69</a>\u001b[0m   libc \u001b[39m=\u001b[39m ctypes\u001b[39m.\u001b[39;49mCDLL(libc_name)\n\u001b[0;32m     <a href='file:///c%3A/Users/simon/AppData/Local/Packages/PythonSoftwareFoundation.Python.3.11_qbz5n2kfra8p0/LocalCache/local-packages/Python311/site-packages/whisper.py?line=69'>70</a>\u001b[0m   c_off64_t \u001b[39m=\u001b[39m ctypes\u001b[39m.\u001b[39mc_int64\n\u001b[0;32m     <a href='file:///c%3A/Users/simon/AppData/Local/Packages/PythonSoftwareFoundation.Python.3.11_qbz5n2kfra8p0/LocalCache/local-packages/Python311/site-packages/whisper.py?line=70'>71</a>\u001b[0m   c_off_t \u001b[39m=\u001b[39m ctypes\u001b[39m.\u001b[39mc_int\n",
      "File \u001b[1;32mC:\\Program Files\\WindowsApps\\PythonSoftwareFoundation.Python.3.11_3.11.2032.0_x64__qbz5n2kfra8p0\\Lib\\ctypes\\__init__.py:366\u001b[0m, in \u001b[0;36mCDLL.__init__\u001b[1;34m(self, name, mode, handle, use_errno, use_last_error, winmode)\u001b[0m\n\u001b[0;32m    <a href='file:///c%3A/Program%20Files/WindowsApps/PythonSoftwareFoundation.Python.3.11_3.11.2032.0_x64__qbz5n2kfra8p0/Lib/ctypes/__init__.py?line=363'>364</a>\u001b[0m \u001b[39mimport\u001b[39;00m \u001b[39mnt\u001b[39;00m\n\u001b[0;32m    <a href='file:///c%3A/Program%20Files/WindowsApps/PythonSoftwareFoundation.Python.3.11_3.11.2032.0_x64__qbz5n2kfra8p0/Lib/ctypes/__init__.py?line=364'>365</a>\u001b[0m mode \u001b[39m=\u001b[39m nt\u001b[39m.\u001b[39m_LOAD_LIBRARY_SEARCH_DEFAULT_DIRS\n\u001b[1;32m--> <a href='file:///c%3A/Program%20Files/WindowsApps/PythonSoftwareFoundation.Python.3.11_3.11.2032.0_x64__qbz5n2kfra8p0/Lib/ctypes/__init__.py?line=365'>366</a>\u001b[0m \u001b[39mif\u001b[39;00m \u001b[39m'\u001b[39;49m\u001b[39m/\u001b[39;49m\u001b[39m'\u001b[39;49m \u001b[39min\u001b[39;49;00m name \u001b[39mor\u001b[39;00m \u001b[39m'\u001b[39m\u001b[39m\\\\\u001b[39;00m\u001b[39m'\u001b[39m \u001b[39min\u001b[39;00m name:\n\u001b[0;32m    <a href='file:///c%3A/Program%20Files/WindowsApps/PythonSoftwareFoundation.Python.3.11_3.11.2032.0_x64__qbz5n2kfra8p0/Lib/ctypes/__init__.py?line=366'>367</a>\u001b[0m     \u001b[39mself\u001b[39m\u001b[39m.\u001b[39m_name \u001b[39m=\u001b[39m nt\u001b[39m.\u001b[39m_getfullpathname(\u001b[39mself\u001b[39m\u001b[39m.\u001b[39m_name)\n\u001b[0;32m    <a href='file:///c%3A/Program%20Files/WindowsApps/PythonSoftwareFoundation.Python.3.11_3.11.2032.0_x64__qbz5n2kfra8p0/Lib/ctypes/__init__.py?line=367'>368</a>\u001b[0m     mode \u001b[39m|\u001b[39m\u001b[39m=\u001b[39m nt\u001b[39m.\u001b[39m_LOAD_LIBRARY_SEARCH_DLL_LOAD_DIR\n",
      "\u001b[1;31mTypeError\u001b[0m: argument of type 'NoneType' is not iterable"
     ]
    }
   ],
   "source": [
    "from faster_whisper import WhisperModel\n",
    "import config\n",
    "import whisper\n",
    "import os, glob"
   ]
  },
  {
   "cell_type": "code",
   "execution_count": 2,
   "metadata": {},
   "outputs": [
    {
     "name": "stdout",
     "output_type": "stream",
     "text": [
      "Found existing installation: whisper 1.1.10\n",
      "Uninstalling whisper-1.1.10:\n",
      "  Successfully uninstalled whisper-1.1.10\n"
     ]
    }
   ],
   "source": [
    "!pip uninstall whisper -y"
   ]
  },
  {
   "cell_type": "code",
   "execution_count": 3,
   "metadata": {},
   "outputs": [
    {
     "name": "stdout",
     "output_type": "stream",
     "text": [
      "Collecting whisper\n",
      "  Using cached whisper-1.1.10-py3-none-any.whl\n",
      "Requirement already satisfied: six in c:\\users\\simon\\appdata\\local\\packages\\pythonsoftwarefoundation.python.3.11_qbz5n2kfra8p0\\localcache\\local-packages\\python311\\site-packages (from whisper) (1.16.0)\n",
      "Installing collected packages: whisper\n",
      "Successfully installed whisper-1.1.10\n"
     ]
    }
   ],
   "source": [
    "!pip install whisper"
   ]
  },
  {
   "cell_type": "markdown",
   "metadata": {
    "isInteractiveWindowMessageCell": true
   },
   "source": [
    "Restarted Python 3.11.7"
   ]
  },
  {
   "cell_type": "code",
   "execution_count": 1,
   "metadata": {},
   "outputs": [
    {
     "name": "stderr",
     "output_type": "stream",
     "text": [
      "C:\\Users\\simon\\AppData\\Local\\Packages\\PythonSoftwareFoundation.Python.3.11_qbz5n2kfra8p0\\LocalCache\\local-packages\\Python311\\site-packages\\tqdm\\auto.py:21: TqdmWarning: IProgress not found. Please update jupyter and ipywidgets. See https://ipywidgets.readthedocs.io/en/stable/user_install.html\n",
      "  from .autonotebook import tqdm as notebook_tqdm\n"
     ]
    },
    {
     "ename": "TypeError",
     "evalue": "argument of type 'NoneType' is not iterable",
     "output_type": "error",
     "traceback": [
      "\u001b[1;31m---------------------------------------------------------------------------\u001b[0m",
      "\u001b[1;31mTypeError\u001b[0m                                 Traceback (most recent call last)",
      "\u001b[1;32mc:\\Users\\simon\\Desktop\\AS_live_transcription\\transcriber.py\u001b[0m in \u001b[0;36mline 4\n\u001b[0;32m      <a href='file:///c%3A/Users/simon/Desktop/AS_live_transcription/transcriber.py?line=1'>2</a>\u001b[0m \u001b[39mfrom\u001b[39;00m \u001b[39mfaster_whisper\u001b[39;00m \u001b[39mimport\u001b[39;00m WhisperModel\n\u001b[0;32m      <a href='file:///c%3A/Users/simon/Desktop/AS_live_transcription/transcriber.py?line=2'>3</a>\u001b[0m \u001b[39mimport\u001b[39;00m \u001b[39mconfig\u001b[39;00m\n\u001b[1;32m----> <a href='file:///c%3A/Users/simon/Desktop/AS_live_transcription/transcriber.py?line=3'>4</a>\u001b[0m \u001b[39mimport\u001b[39;00m \u001b[39mwhisper\u001b[39;00m\n\u001b[0;32m      <a href='file:///c%3A/Users/simon/Desktop/AS_live_transcription/transcriber.py?line=4'>5</a>\u001b[0m \u001b[39mimport\u001b[39;00m \u001b[39mos\u001b[39;00m\u001b[39m,\u001b[39m \u001b[39mglob\u001b[39;00m\n",
      "File \u001b[1;32m~\\AppData\\Local\\Packages\\PythonSoftwareFoundation.Python.3.11_qbz5n2kfra8p0\\LocalCache\\local-packages\\Python311\\site-packages\\whisper.py:69\u001b[0m\n\u001b[0;32m     <a href='file:///c%3A/Users/simon/AppData/Local/Packages/PythonSoftwareFoundation.Python.3.11_qbz5n2kfra8p0/LocalCache/local-packages/Python311/site-packages/whisper.py?line=66'>67</a>\u001b[0m \u001b[39mif\u001b[39;00m CAN_FALLOCATE:\n\u001b[0;32m     <a href='file:///c%3A/Users/simon/AppData/Local/Packages/PythonSoftwareFoundation.Python.3.11_qbz5n2kfra8p0/LocalCache/local-packages/Python311/site-packages/whisper.py?line=67'>68</a>\u001b[0m   libc_name \u001b[39m=\u001b[39m ctypes\u001b[39m.\u001b[39mutil\u001b[39m.\u001b[39mfind_library(\u001b[39m'\u001b[39m\u001b[39mc\u001b[39m\u001b[39m'\u001b[39m)\n\u001b[1;32m---> <a href='file:///c%3A/Users/simon/AppData/Local/Packages/PythonSoftwareFoundation.Python.3.11_qbz5n2kfra8p0/LocalCache/local-packages/Python311/site-packages/whisper.py?line=68'>69</a>\u001b[0m   libc \u001b[39m=\u001b[39m ctypes\u001b[39m.\u001b[39;49mCDLL(libc_name)\n\u001b[0;32m     <a href='file:///c%3A/Users/simon/AppData/Local/Packages/PythonSoftwareFoundation.Python.3.11_qbz5n2kfra8p0/LocalCache/local-packages/Python311/site-packages/whisper.py?line=69'>70</a>\u001b[0m   c_off64_t \u001b[39m=\u001b[39m ctypes\u001b[39m.\u001b[39mc_int64\n\u001b[0;32m     <a href='file:///c%3A/Users/simon/AppData/Local/Packages/PythonSoftwareFoundation.Python.3.11_qbz5n2kfra8p0/LocalCache/local-packages/Python311/site-packages/whisper.py?line=70'>71</a>\u001b[0m   c_off_t \u001b[39m=\u001b[39m ctypes\u001b[39m.\u001b[39mc_int\n",
      "File \u001b[1;32mC:\\Program Files\\WindowsApps\\PythonSoftwareFoundation.Python.3.11_3.11.2032.0_x64__qbz5n2kfra8p0\\Lib\\ctypes\\__init__.py:366\u001b[0m, in \u001b[0;36mCDLL.__init__\u001b[1;34m(self, name, mode, handle, use_errno, use_last_error, winmode)\u001b[0m\n\u001b[0;32m    <a href='file:///c%3A/Program%20Files/WindowsApps/PythonSoftwareFoundation.Python.3.11_3.11.2032.0_x64__qbz5n2kfra8p0/Lib/ctypes/__init__.py?line=363'>364</a>\u001b[0m \u001b[39mimport\u001b[39;00m \u001b[39mnt\u001b[39;00m\n\u001b[0;32m    <a href='file:///c%3A/Program%20Files/WindowsApps/PythonSoftwareFoundation.Python.3.11_3.11.2032.0_x64__qbz5n2kfra8p0/Lib/ctypes/__init__.py?line=364'>365</a>\u001b[0m mode \u001b[39m=\u001b[39m nt\u001b[39m.\u001b[39m_LOAD_LIBRARY_SEARCH_DEFAULT_DIRS\n\u001b[1;32m--> <a href='file:///c%3A/Program%20Files/WindowsApps/PythonSoftwareFoundation.Python.3.11_3.11.2032.0_x64__qbz5n2kfra8p0/Lib/ctypes/__init__.py?line=365'>366</a>\u001b[0m \u001b[39mif\u001b[39;00m \u001b[39m'\u001b[39;49m\u001b[39m/\u001b[39;49m\u001b[39m'\u001b[39;49m \u001b[39min\u001b[39;49;00m name \u001b[39mor\u001b[39;00m \u001b[39m'\u001b[39m\u001b[39m\\\\\u001b[39;00m\u001b[39m'\u001b[39m \u001b[39min\u001b[39;00m name:\n\u001b[0;32m    <a href='file:///c%3A/Program%20Files/WindowsApps/PythonSoftwareFoundation.Python.3.11_3.11.2032.0_x64__qbz5n2kfra8p0/Lib/ctypes/__init__.py?line=366'>367</a>\u001b[0m     \u001b[39mself\u001b[39m\u001b[39m.\u001b[39m_name \u001b[39m=\u001b[39m nt\u001b[39m.\u001b[39m_getfullpathname(\u001b[39mself\u001b[39m\u001b[39m.\u001b[39m_name)\n\u001b[0;32m    <a href='file:///c%3A/Program%20Files/WindowsApps/PythonSoftwareFoundation.Python.3.11_3.11.2032.0_x64__qbz5n2kfra8p0/Lib/ctypes/__init__.py?line=367'>368</a>\u001b[0m     mode \u001b[39m|\u001b[39m\u001b[39m=\u001b[39m nt\u001b[39m.\u001b[39m_LOAD_LIBRARY_SEARCH_DLL_LOAD_DIR\n",
      "\u001b[1;31mTypeError\u001b[0m: argument of type 'NoneType' is not iterable"
     ]
    }
   ],
   "source": [
    "from faster_whisper import WhisperModel\n",
    "import config\n",
    "import whisper\n",
    "import os, glob"
   ]
  },
  {
   "cell_type": "code",
   "execution_count": 2,
   "metadata": {},
   "outputs": [
    {
     "ename": "NameError",
     "evalue": "name 'glob' is not defined",
     "output_type": "error",
     "traceback": [
      "\u001b[1;31m---------------------------------------------------------------------------\u001b[0m",
      "\u001b[1;31mNameError\u001b[0m                                 Traceback (most recent call last)",
      "\u001b[1;32mc:\\Users\\simon\\Desktop\\AS_live_transcription\\transcriber.py\u001b[0m in \u001b[0;36mline 8\n\u001b[0;32m      <a href='file:///c%3A/Users/simon/Desktop/AS_live_transcription/transcriber.py?line=15'>16</a>\u001b[0m transcribed \u001b[39m=\u001b[39m []\n\u001b[0;32m      <a href='file:///c%3A/Users/simon/Desktop/AS_live_transcription/transcriber.py?line=17'>18</a>\u001b[0m \u001b[39mwhile\u001b[39;00m \u001b[39mTrue\u001b[39;00m:\n\u001b[0;32m      <a href='file:///c%3A/Users/simon/Desktop/AS_live_transcription/transcriber.py?line=18'>19</a>\u001b[0m     \u001b[39m# get most recent wav recording in the recordings directory\u001b[39;00m\n\u001b[1;32m----> <a href='file:///c%3A/Users/simon/Desktop/AS_live_transcription/transcriber.py?line=19'>20</a>\u001b[0m     files \u001b[39m=\u001b[39m \u001b[39msorted\u001b[39m(glob\u001b[39m.\u001b[39miglob(recordings_dir), key\u001b[39m=\u001b[39mos\u001b[39m.\u001b[39mpath\u001b[39m.\u001b[39mgetctime, reverse\u001b[39m=\u001b[39m\u001b[39mTrue\u001b[39;00m)\n\u001b[0;32m      <a href='file:///c%3A/Users/simon/Desktop/AS_live_transcription/transcriber.py?line=20'>21</a>\u001b[0m     \u001b[39mif\u001b[39;00m \u001b[39mlen\u001b[39m(files) \u001b[39m<\u001b[39m \u001b[39m1\u001b[39m:\n\u001b[0;32m     <a href='file:///c%3A/Users/simon/Desktop/AS_live_transcription/transcriber.py?line=21'>22</a>\u001b[0m         \u001b[39mcontinue\u001b[39;00m\n",
      "\u001b[1;31mNameError\u001b[0m: name 'glob' is not defined"
     ]
    }
   ],
   "source": [
    "# list to store which wav files have been transcribed\n",
    "transcribed = []\n",
    "\n",
    "while True:\n",
    "    # get most recent wav recording in the recordings directory\n",
    "    files = sorted(glob.iglob(recordings_dir), key=os.path.getctime, reverse=True)\n",
    "    if len(files) < 1:\n",
    "        continue\n",
    "    \n",
    "    latest_recording = files[0]\n",
    "    latest_recording_filename = latest_recording.split('/')[1]\n",
    "\n",
    "    if os.path.exists(latest_recording) and not latest_recording in transcribed:\n",
    "        audio = whisper.load_audio(latest_recording)\n",
    "        audio = whisper.pad_or_trim(audio)\n",
    "        mel = whisper.log_mel_spectrogram(audio).to(model.device)\n",
    "        options = whisper.DecodingOptions(language= 'en', fp16=False)\n",
    "\n",
    "        result = whisper.decode(model, mel, options)\n",
    "\n",
    "        if result.no_speech_prob < 0.5:\n",
    "            print(result.text)\n",
    "\n",
    "            # append text to transcript file\n",
    "            with open(config.TRANSCRIPT_FILE, 'a') as f:\n",
    "                f.write(result.text)\n",
    "        \n",
    "            # save list of transcribed recordings so that we don't transcribe the same one again\n",
    "            transcribed.append(latest_recording)"
   ]
  },
  {
   "cell_type": "code",
   "execution_count": 3,
   "metadata": {},
   "outputs": [
    {
     "ename": "TypeError",
     "evalue": "argument of type 'NoneType' is not iterable",
     "output_type": "error",
     "traceback": [
      "\u001b[1;31m---------------------------------------------------------------------------\u001b[0m",
      "\u001b[1;31mTypeError\u001b[0m                                 Traceback (most recent call last)",
      "\u001b[1;32mc:\\Users\\simon\\Desktop\\AS_live_transcription\\transcriber.py\u001b[0m in \u001b[0;36mline 5\n\u001b[0;32m      <a href='file:///c%3A/Users/simon/Desktop/AS_live_transcription/transcriber.py?line=2'>3</a>\u001b[0m \u001b[39mimport\u001b[39;00m \u001b[39mos\u001b[39;00m\u001b[39m,\u001b[39m \u001b[39mglob\u001b[39;00m\n\u001b[0;32m      <a href='file:///c%3A/Users/simon/Desktop/AS_live_transcription/transcriber.py?line=3'>4</a>\u001b[0m \u001b[39mimport\u001b[39;00m \u001b[39mconfig\u001b[39;00m\n\u001b[1;32m----> <a href='file:///c%3A/Users/simon/Desktop/AS_live_transcription/transcriber.py?line=4'>5</a>\u001b[0m \u001b[39mimport\u001b[39;00m \u001b[39mwhisper\u001b[39;00m\n",
      "File \u001b[1;32m~\\AppData\\Local\\Packages\\PythonSoftwareFoundation.Python.3.11_qbz5n2kfra8p0\\LocalCache\\local-packages\\Python311\\site-packages\\whisper.py:69\u001b[0m\n\u001b[0;32m     <a href='file:///c%3A/Users/simon/AppData/Local/Packages/PythonSoftwareFoundation.Python.3.11_qbz5n2kfra8p0/LocalCache/local-packages/Python311/site-packages/whisper.py?line=66'>67</a>\u001b[0m \u001b[39mif\u001b[39;00m CAN_FALLOCATE:\n\u001b[0;32m     <a href='file:///c%3A/Users/simon/AppData/Local/Packages/PythonSoftwareFoundation.Python.3.11_qbz5n2kfra8p0/LocalCache/local-packages/Python311/site-packages/whisper.py?line=67'>68</a>\u001b[0m   libc_name \u001b[39m=\u001b[39m ctypes\u001b[39m.\u001b[39mutil\u001b[39m.\u001b[39mfind_library(\u001b[39m'\u001b[39m\u001b[39mc\u001b[39m\u001b[39m'\u001b[39m)\n\u001b[1;32m---> <a href='file:///c%3A/Users/simon/AppData/Local/Packages/PythonSoftwareFoundation.Python.3.11_qbz5n2kfra8p0/LocalCache/local-packages/Python311/site-packages/whisper.py?line=68'>69</a>\u001b[0m   libc \u001b[39m=\u001b[39m ctypes\u001b[39m.\u001b[39;49mCDLL(libc_name)\n\u001b[0;32m     <a href='file:///c%3A/Users/simon/AppData/Local/Packages/PythonSoftwareFoundation.Python.3.11_qbz5n2kfra8p0/LocalCache/local-packages/Python311/site-packages/whisper.py?line=69'>70</a>\u001b[0m   c_off64_t \u001b[39m=\u001b[39m ctypes\u001b[39m.\u001b[39mc_int64\n\u001b[0;32m     <a href='file:///c%3A/Users/simon/AppData/Local/Packages/PythonSoftwareFoundation.Python.3.11_qbz5n2kfra8p0/LocalCache/local-packages/Python311/site-packages/whisper.py?line=70'>71</a>\u001b[0m   c_off_t \u001b[39m=\u001b[39m ctypes\u001b[39m.\u001b[39mc_int\n",
      "File \u001b[1;32mC:\\Program Files\\WindowsApps\\PythonSoftwareFoundation.Python.3.11_3.11.2032.0_x64__qbz5n2kfra8p0\\Lib\\ctypes\\__init__.py:366\u001b[0m, in \u001b[0;36mCDLL.__init__\u001b[1;34m(self, name, mode, handle, use_errno, use_last_error, winmode)\u001b[0m\n\u001b[0;32m    <a href='file:///c%3A/Program%20Files/WindowsApps/PythonSoftwareFoundation.Python.3.11_3.11.2032.0_x64__qbz5n2kfra8p0/Lib/ctypes/__init__.py?line=363'>364</a>\u001b[0m \u001b[39mimport\u001b[39;00m \u001b[39mnt\u001b[39;00m\n\u001b[0;32m    <a href='file:///c%3A/Program%20Files/WindowsApps/PythonSoftwareFoundation.Python.3.11_3.11.2032.0_x64__qbz5n2kfra8p0/Lib/ctypes/__init__.py?line=364'>365</a>\u001b[0m mode \u001b[39m=\u001b[39m nt\u001b[39m.\u001b[39m_LOAD_LIBRARY_SEARCH_DEFAULT_DIRS\n\u001b[1;32m--> <a href='file:///c%3A/Program%20Files/WindowsApps/PythonSoftwareFoundation.Python.3.11_3.11.2032.0_x64__qbz5n2kfra8p0/Lib/ctypes/__init__.py?line=365'>366</a>\u001b[0m \u001b[39mif\u001b[39;00m \u001b[39m'\u001b[39;49m\u001b[39m/\u001b[39;49m\u001b[39m'\u001b[39;49m \u001b[39min\u001b[39;49;00m name \u001b[39mor\u001b[39;00m \u001b[39m'\u001b[39m\u001b[39m\\\\\u001b[39;00m\u001b[39m'\u001b[39m \u001b[39min\u001b[39;00m name:\n\u001b[0;32m    <a href='file:///c%3A/Program%20Files/WindowsApps/PythonSoftwareFoundation.Python.3.11_3.11.2032.0_x64__qbz5n2kfra8p0/Lib/ctypes/__init__.py?line=366'>367</a>\u001b[0m     \u001b[39mself\u001b[39m\u001b[39m.\u001b[39m_name \u001b[39m=\u001b[39m nt\u001b[39m.\u001b[39m_getfullpathname(\u001b[39mself\u001b[39m\u001b[39m.\u001b[39m_name)\n\u001b[0;32m    <a href='file:///c%3A/Program%20Files/WindowsApps/PythonSoftwareFoundation.Python.3.11_3.11.2032.0_x64__qbz5n2kfra8p0/Lib/ctypes/__init__.py?line=367'>368</a>\u001b[0m     mode \u001b[39m|\u001b[39m\u001b[39m=\u001b[39m nt\u001b[39m.\u001b[39m_LOAD_LIBRARY_SEARCH_DLL_LOAD_DIR\n",
      "\u001b[1;31mTypeError\u001b[0m: argument of type 'NoneType' is not iterable"
     ]
    }
   ],
   "source": [
    "from faster_whisper import WhisperModel\n",
    "import os, glob\n",
    "import config\n",
    "import whisper"
   ]
  },
  {
   "cell_type": "code",
   "execution_count": 4,
   "metadata": {},
   "outputs": [
    {
     "ename": "NameError",
     "evalue": "name 'recordings_dir' is not defined",
     "output_type": "error",
     "traceback": [
      "\u001b[1;31m---------------------------------------------------------------------------\u001b[0m",
      "\u001b[1;31mNameError\u001b[0m                                 Traceback (most recent call last)",
      "\u001b[1;32mc:\\Users\\simon\\Desktop\\AS_live_transcription\\transcriber.py\u001b[0m in \u001b[0;36mline 8\n\u001b[0;32m      <a href='file:///c%3A/Users/simon/Desktop/AS_live_transcription/transcriber.py?line=16'>17</a>\u001b[0m transcribed \u001b[39m=\u001b[39m []\n\u001b[0;32m      <a href='file:///c%3A/Users/simon/Desktop/AS_live_transcription/transcriber.py?line=18'>19</a>\u001b[0m \u001b[39mwhile\u001b[39;00m \u001b[39mTrue\u001b[39;00m:\n\u001b[0;32m      <a href='file:///c%3A/Users/simon/Desktop/AS_live_transcription/transcriber.py?line=19'>20</a>\u001b[0m     \u001b[39m# get most recent wav recording in the recordings directory\u001b[39;00m\n\u001b[1;32m----> <a href='file:///c%3A/Users/simon/Desktop/AS_live_transcription/transcriber.py?line=20'>21</a>\u001b[0m     files \u001b[39m=\u001b[39m \u001b[39msorted\u001b[39m(glob\u001b[39m.\u001b[39miglob(recordings_dir), key\u001b[39m=\u001b[39mos\u001b[39m.\u001b[39mpath\u001b[39m.\u001b[39mgetctime, reverse\u001b[39m=\u001b[39m\u001b[39mTrue\u001b[39;00m)\n\u001b[0;32m      <a href='file:///c%3A/Users/simon/Desktop/AS_live_transcription/transcriber.py?line=21'>22</a>\u001b[0m     \u001b[39mif\u001b[39;00m \u001b[39mlen\u001b[39m(files) \u001b[39m<\u001b[39m \u001b[39m1\u001b[39m:\n\u001b[0;32m     <a href='file:///c%3A/Users/simon/Desktop/AS_live_transcription/transcriber.py?line=22'>23</a>\u001b[0m         \u001b[39mcontinue\u001b[39;00m\n",
      "\u001b[1;31mNameError\u001b[0m: name 'recordings_dir' is not defined"
     ]
    }
   ],
   "source": [
    "# list to store which wav files have been transcribed\n",
    "transcribed = []\n",
    "\n",
    "while True:\n",
    "    # get most recent wav recording in the recordings directory\n",
    "    files = sorted(glob.iglob(recordings_dir), key=os.path.getctime, reverse=True)\n",
    "    if len(files) < 1:\n",
    "        continue\n",
    "    \n",
    "    latest_recording = files[0]\n",
    "    latest_recording_filename = latest_recording.split('/')[1]\n",
    "\n",
    "    if os.path.exists(latest_recording) and not latest_recording in transcribed:\n",
    "        audio = whisper.load_audio(latest_recording)\n",
    "        audio = whisper.pad_or_trim(audio)\n",
    "        mel = whisper.log_mel_spectrogram(audio).to(model.device)\n",
    "        options = whisper.DecodingOptions(language= 'en', fp16=False)\n",
    "\n",
    "        result = whisper.decode(model, mel, options)\n",
    "\n",
    "        if result.no_speech_prob < 0.5:\n",
    "            print(result.text)\n",
    "\n",
    "            # append text to transcript file\n",
    "            with open(config.TRANSCRIPT_FILE, 'a') as f:\n",
    "                f.write(result.text)\n",
    "        \n",
    "            # save list of transcribed recordings so that we don't transcribe the same one again\n",
    "            transcribed.append(latest_recording)"
   ]
  },
  {
   "cell_type": "code",
   "execution_count": 5,
   "metadata": {},
   "outputs": [
    {
     "name": "stdout",
     "output_type": "stream",
     "text": [
      "Collecting git+https://github.com/openai/whisper.git\n",
      "  Cloning https://github.com/openai/whisper.git to c:\\users\\simon\\appdata\\local\\temp\\pip-req-build-eldeyewk\n",
      "  Resolved https://github.com/openai/whisper.git to commit 8bc8860694949db53c42ba47ddc23786c2e02a8b\n",
      "  Installing build dependencies: started\n",
      "  Installing build dependencies: finished with status 'done'\n",
      "  Getting requirements to build wheel: started\n",
      "  Getting requirements to build wheel: finished with status 'done'\n",
      "  Preparing metadata (pyproject.toml): started\n",
      "  Preparing metadata (pyproject.toml): finished with status 'done'\n",
      "Collecting numba (from openai-whisper==20231117)\n",
      "  Downloading numba-0.58.1-cp311-cp311-win_amd64.whl.metadata (2.8 kB)\n",
      "Requirement already satisfied: numpy in c:\\users\\simon\\appdata\\local\\packages\\pythonsoftwarefoundation.python.3.11_qbz5n2kfra8p0\\localcache\\local-packages\\python311\\site-packages (from openai-whisper==20231117) (1.26.0)\n",
      "Requirement already satisfied: torch in c:\\users\\simon\\appdata\\local\\packages\\pythonsoftwarefoundation.python.3.11_qbz5n2kfra8p0\\localcache\\local-packages\\python311\\site-packages (from openai-whisper==20231117) (2.1.1)\n",
      "Requirement already satisfied: tqdm in c:\\users\\simon\\appdata\\local\\packages\\pythonsoftwarefoundation.python.3.11_qbz5n2kfra8p0\\localcache\\local-packages\\python311\\site-packages (from openai-whisper==20231117) (4.66.1)\n",
      "Collecting more-itertools (from openai-whisper==20231117)\n",
      "  Downloading more_itertools-10.1.0-py3-none-any.whl.metadata (33 kB)\n",
      "Requirement already satisfied: tiktoken in c:\\users\\simon\\appdata\\local\\packages\\pythonsoftwarefoundation.python.3.11_qbz5n2kfra8p0\\localcache\\local-packages\\python311\\site-packages (from openai-whisper==20231117) (0.5.1)\n",
      "Collecting llvmlite<0.42,>=0.41.0dev0 (from numba->openai-whisper==20231117)\n",
      "  Downloading llvmlite-0.41.1-cp311-cp311-win_amd64.whl.metadata (4.9 kB)\n",
      "Requirement already satisfied: regex>=2022.1.18 in c:\\users\\simon\\appdata\\local\\packages\\pythonsoftwarefoundation.python.3.11_qbz5n2kfra8p0\\localcache\\local-packages\\python311\\site-packages (from tiktoken->openai-whisper==20231117) (2023.10.3)\n",
      "Requirement already satisfied: requests>=2.26.0 in c:\\users\\simon\\appdata\\local\\packages\\pythonsoftwarefoundation.python.3.11_qbz5n2kfra8p0\\localcache\\local-packages\\python311\\site-packages (from tiktoken->openai-whisper==20231117) (2.31.0)\n",
      "Requirement already satisfied: filelock in c:\\users\\simon\\appdata\\local\\packages\\pythonsoftwarefoundation.python.3.11_qbz5n2kfra8p0\\localcache\\local-packages\\python311\\site-packages (from torch->openai-whisper==20231117) (3.12.4)\n",
      "Requirement already satisfied: typing-extensions in c:\\users\\simon\\appdata\\local\\packages\\pythonsoftwarefoundation.python.3.11_qbz5n2kfra8p0\\localcache\\local-packages\\python311\\site-packages (from torch->openai-whisper==20231117) (4.8.0)\n",
      "Requirement already satisfied: sympy in c:\\users\\simon\\appdata\\local\\packages\\pythonsoftwarefoundation.python.3.11_qbz5n2kfra8p0\\localcache\\local-packages\\python311\\site-packages (from torch->openai-whisper==20231117) (1.12)\n",
      "Requirement already satisfied: networkx in c:\\users\\simon\\appdata\\local\\packages\\pythonsoftwarefoundation.python.3.11_qbz5n2kfra8p0\\localcache\\local-packages\\python311\\site-packages (from torch->openai-whisper==20231117) (3.1)\n",
      "Requirement already satisfied: jinja2 in c:\\users\\simon\\appdata\\local\\packages\\pythonsoftwarefoundation.python.3.11_qbz5n2kfra8p0\\localcache\\local-packages\\python311\\site-packages (from torch->openai-whisper==20231117) (3.1.2)\n",
      "Requirement already satisfied: fsspec in c:\\users\\simon\\appdata\\local\\packages\\pythonsoftwarefoundation.python.3.11_qbz5n2kfra8p0\\localcache\\local-packages\\python311\\site-packages (from torch->openai-whisper==20231117) (2023.9.2)\n",
      "Requirement already satisfied: colorama in c:\\users\\simon\\appdata\\local\\packages\\pythonsoftwarefoundation.python.3.11_qbz5n2kfra8p0\\localcache\\local-packages\\python311\\site-packages (from tqdm->openai-whisper==20231117) (0.4.6)\n",
      "Requirement already satisfied: charset-normalizer<4,>=2 in c:\\users\\simon\\appdata\\local\\packages\\pythonsoftwarefoundation.python.3.11_qbz5n2kfra8p0\\localcache\\local-packages\\python311\\site-packages (from requests>=2.26.0->tiktoken->openai-whisper==20231117) (3.3.0)\n",
      "Requirement already satisfied: idna<4,>=2.5 in c:\\users\\simon\\appdata\\local\\packages\\pythonsoftwarefoundation.python.3.11_qbz5n2kfra8p0\\localcache\\local-packages\\python311\\site-packages (from requests>=2.26.0->tiktoken->openai-whisper==20231117) (2.10)\n",
      "Requirement already satisfied: urllib3<3,>=1.21.1 in c:\\users\\simon\\appdata\\local\\packages\\pythonsoftwarefoundation.python.3.11_qbz5n2kfra8p0\\localcache\\local-packages\\python311\\site-packages (from requests>=2.26.0->tiktoken->openai-whisper==20231117) (1.26.18)\n",
      "Requirement already satisfied: certifi>=2017.4.17 in c:\\users\\simon\\appdata\\local\\packages\\pythonsoftwarefoundation.python.3.11_qbz5n2kfra8p0\\localcache\\local-packages\\python311\\site-packages (from requests>=2.26.0->tiktoken->openai-whisper==20231117) (2023.7.22)\n",
      "Requirement already satisfied: MarkupSafe>=2.0 in c:\\users\\simon\\appdata\\local\\packages\\pythonsoftwarefoundation.python.3.11_qbz5n2kfra8p0\\localcache\\local-packages\\python311\\site-packages (from jinja2->torch->openai-whisper==20231117) (2.1.3)\n",
      "Requirement already satisfied: mpmath>=0.19 in c:\\users\\simon\\appdata\\local\\packages\\pythonsoftwarefoundation.python.3.11_qbz5n2kfra8p0\\localcache\\local-packages\\python311\\site-packages (from sympy->torch->openai-whisper==20231117) (1.3.0)\n",
      "Downloading more_itertools-10.1.0-py3-none-any.whl (55 kB)\n",
      "   ---------------------------------------- 0.0/55.8 kB ? eta -:--:--\n",
      "   ---------------------------------------- 55.8/55.8 kB 2.8 MB/s eta 0:00:00\n",
      "Downloading numba-0.58.1-cp311-cp311-win_amd64.whl (2.6 MB)\n",
      "   ---------------------------------------- 0.0/2.6 MB ? eta -:--:--\n",
      "   ---- ----------------------------------- 0.3/2.6 MB 9.3 MB/s eta 0:00:01\n",
      "   ------------ --------------------------- 0.8/2.6 MB 10.2 MB/s eta 0:00:01\n",
      "   ------------------ --------------------- 1.2/2.6 MB 9.6 MB/s eta 0:00:01\n",
      "   ------------------------ --------------- 1.6/2.6 MB 9.3 MB/s eta 0:00:01\n",
      "   ------------------------------- -------- 2.0/2.6 MB 9.3 MB/s eta 0:00:01\n",
      "   ------------------------------------- -- 2.5/2.6 MB 9.2 MB/s eta 0:00:01\n",
      "   ---------------------------------------- 2.6/2.6 MB 8.7 MB/s eta 0:00:00\n",
      "Downloading llvmlite-0.41.1-cp311-cp311-win_amd64.whl (28.1 MB)\n",
      "   ---------------------------------------- 0.0/28.1 MB ? eta -:--:--\n",
      "    --------------------------------------- 0.4/28.1 MB 11.6 MB/s eta 0:00:03\n",
      "   - -------------------------------------- 0.8/28.1 MB 9.8 MB/s eta 0:00:03\n",
      "   - -------------------------------------- 1.2/28.1 MB 9.3 MB/s eta 0:00:03\n",
      "   -- ------------------------------------- 1.6/28.1 MB 9.3 MB/s eta 0:00:03\n",
      "   -- ------------------------------------- 2.0/28.1 MB 9.3 MB/s eta 0:00:03\n",
      "   --- ------------------------------------ 2.4/28.1 MB 9.1 MB/s eta 0:00:03\n",
      "   ---- ----------------------------------- 2.9/28.1 MB 9.2 MB/s eta 0:00:03\n",
      "   ---- ----------------------------------- 3.3/28.1 MB 9.1 MB/s eta 0:00:03\n",
      "   ----- ---------------------------------- 3.7/28.1 MB 9.0 MB/s eta 0:00:03\n",
      "   ----- ---------------------------------- 4.1/28.1 MB 8.9 MB/s eta 0:00:03\n",
      "   ------ --------------------------------- 4.4/28.1 MB 8.9 MB/s eta 0:00:03\n",
      "   ------ --------------------------------- 4.8/28.1 MB 8.7 MB/s eta 0:00:03\n",
      "   ------- -------------------------------- 5.1/28.1 MB 8.7 MB/s eta 0:00:03\n",
      "   ------- -------------------------------- 5.6/28.1 MB 8.7 MB/s eta 0:00:03\n",
      "   -------- ------------------------------- 6.0/28.1 MB 8.7 MB/s eta 0:00:03\n",
      "   --------- ------------------------------ 6.4/28.1 MB 8.7 MB/s eta 0:00:03\n",
      "   --------- ------------------------------ 6.8/28.1 MB 8.7 MB/s eta 0:00:03\n",
      "   ---------- ----------------------------- 7.2/28.1 MB 8.7 MB/s eta 0:00:03\n",
      "   ---------- ----------------------------- 7.6/28.1 MB 8.7 MB/s eta 0:00:03\n",
      "   ----------- ---------------------------- 8.0/28.1 MB 8.7 MB/s eta 0:00:03\n",
      "   ------------ --------------------------- 8.5/28.1 MB 8.7 MB/s eta 0:00:03\n",
      "   ------------ --------------------------- 8.9/28.1 MB 8.7 MB/s eta 0:00:03\n",
      "   ------------- -------------------------- 9.3/28.1 MB 8.7 MB/s eta 0:00:03\n",
      "   ------------- -------------------------- 9.7/28.1 MB 8.7 MB/s eta 0:00:03\n",
      "   -------------- ------------------------- 10.1/28.1 MB 8.8 MB/s eta 0:00:03\n",
      "   --------------- ------------------------ 10.6/28.1 MB 8.6 MB/s eta 0:00:03\n",
      "   --------------- ------------------------ 11.0/28.1 MB 8.6 MB/s eta 0:00:02\n",
      "   ---------------- ----------------------- 11.4/28.1 MB 8.6 MB/s eta 0:00:02\n",
      "   ---------------- ----------------------- 11.8/28.1 MB 8.6 MB/s eta 0:00:02\n",
      "   ----------------- ---------------------- 12.2/28.1 MB 8.6 MB/s eta 0:00:02\n",
      "   ----------------- ---------------------- 12.6/28.1 MB 8.6 MB/s eta 0:00:02\n",
      "   ------------------ --------------------- 13.0/28.1 MB 8.6 MB/s eta 0:00:02\n",
      "   ------------------- -------------------- 13.4/28.1 MB 8.5 MB/s eta 0:00:02\n",
      "   ------------------- -------------------- 13.8/28.1 MB 8.5 MB/s eta 0:00:02\n",
      "   -------------------- ------------------- 14.1/28.1 MB 8.5 MB/s eta 0:00:02\n",
      "   -------------------- ------------------- 14.6/28.1 MB 8.5 MB/s eta 0:00:02\n",
      "   --------------------- ------------------ 15.0/28.1 MB 8.5 MB/s eta 0:00:02\n",
      "   --------------------- ------------------ 15.4/28.1 MB 8.6 MB/s eta 0:00:02\n",
      "   ---------------------- ----------------- 15.8/28.1 MB 8.6 MB/s eta 0:00:02\n",
      "   ---------------------- ----------------- 16.1/28.1 MB 8.6 MB/s eta 0:00:02\n",
      "   ----------------------- ---------------- 16.6/28.1 MB 8.6 MB/s eta 0:00:02\n",
      "   ------------------------ --------------- 17.0/28.1 MB 8.6 MB/s eta 0:00:02\n",
      "   ------------------------ --------------- 17.4/28.1 MB 8.6 MB/s eta 0:00:02\n",
      "   ------------------------- -------------- 17.7/28.1 MB 8.5 MB/s eta 0:00:02\n",
      "   ------------------------- -------------- 18.1/28.1 MB 8.5 MB/s eta 0:00:02\n",
      "   -------------------------- ------------- 18.5/28.1 MB 8.5 MB/s eta 0:00:02\n",
      "   -------------------------- ------------- 18.9/28.1 MB 8.5 MB/s eta 0:00:02\n",
      "   --------------------------- ------------ 19.3/28.1 MB 8.5 MB/s eta 0:00:02\n",
      "   ---------------------------- ----------- 19.7/28.1 MB 8.5 MB/s eta 0:00:01\n",
      "   ---------------------------- ----------- 20.1/28.1 MB 8.4 MB/s eta 0:00:01\n",
      "   ----------------------------- ---------- 20.5/28.1 MB 8.4 MB/s eta 0:00:01\n",
      "   ----------------------------- ---------- 20.9/28.1 MB 8.4 MB/s eta 0:00:01\n",
      "   ------------------------------ --------- 21.2/28.1 MB 8.4 MB/s eta 0:00:01\n",
      "   ------------------------------ --------- 21.6/28.1 MB 8.4 MB/s eta 0:00:01\n",
      "   ------------------------------- -------- 22.0/28.1 MB 8.4 MB/s eta 0:00:01\n",
      "   ------------------------------- -------- 22.4/28.1 MB 8.4 MB/s eta 0:00:01\n",
      "   -------------------------------- ------- 22.9/28.1 MB 8.4 MB/s eta 0:00:01\n",
      "   --------------------------------- ------ 23.3/28.1 MB 8.4 MB/s eta 0:00:01\n",
      "   --------------------------------- ------ 23.7/28.1 MB 8.4 MB/s eta 0:00:01\n",
      "   ---------------------------------- ----- 24.1/28.1 MB 8.4 MB/s eta 0:00:01\n",
      "   ---------------------------------- ----- 24.5/28.1 MB 8.6 MB/s eta 0:00:01\n",
      "   ----------------------------------- ---- 24.9/28.1 MB 8.6 MB/s eta 0:00:01\n",
      "   ------------------------------------ --- 25.3/28.1 MB 8.6 MB/s eta 0:00:01\n",
      "   ------------------------------------ --- 25.6/28.1 MB 8.6 MB/s eta 0:00:01\n",
      "   ------------------------------------- -- 26.1/28.1 MB 8.6 MB/s eta 0:00:01\n",
      "   ------------------------------------- -- 26.5/28.1 MB 8.5 MB/s eta 0:00:01\n",
      "   -------------------------------------- - 26.8/28.1 MB 8.4 MB/s eta 0:00:01\n",
      "   -------------------------------------- - 27.2/28.1 MB 8.4 MB/s eta 0:00:01\n",
      "   ---------------------------------------  27.5/28.1 MB 8.4 MB/s eta 0:00:01\n",
      "   ---------------------------------------  27.9/28.1 MB 8.4 MB/s eta 0:00:01\n",
      "   ---------------------------------------  28.1/28.1 MB 8.4 MB/s eta 0:00:01\n",
      "   ---------------------------------------- 28.1/28.1 MB 8.0 MB/s eta 0:00:00\n",
      "Building wheels for collected packages: openai-whisper\n",
      "  Building wheel for openai-whisper (pyproject.toml): started\n",
      "  Building wheel for openai-whisper (pyproject.toml): finished with status 'done'\n",
      "  Created wheel for openai-whisper: filename=openai_whisper-20231117-py3-none-any.whl size=810731 sha256=ad1ef36d33ad9a0493c6fdd3d52f9eb88e4673ac0c20c32a28f82a3805f15c32\n",
      "  Stored in directory: C:\\Users\\simon\\AppData\\Local\\Temp\\pip-ephem-wheel-cache-7856pmol\\wheels\\1f\\1d\\98\\9583695e6695a6ac0ad42d87511097dce5ba486647dbfecb0e\n",
      "Successfully built openai-whisper\n",
      "Installing collected packages: more-itertools, llvmlite, numba, openai-whisper\n",
      "Successfully installed llvmlite-0.41.1 more-itertools-10.1.0 numba-0.58.1 openai-whisper-20231117\n"
     ]
    },
    {
     "name": "stderr",
     "output_type": "stream",
     "text": [
      "  Running command git clone --filter=blob:none --quiet https://github.com/openai/whisper.git 'C:\\Users\\simon\\AppData\\Local\\Temp\\pip-req-build-eldeyewk'\n"
     ]
    }
   ],
   "source": [
    "!pip install git+https://github.com/openai/whisper.git"
   ]
  },
  {
   "cell_type": "code",
   "execution_count": 6,
   "metadata": {},
   "outputs": [],
   "source": [
    "from faster_whisper import WhisperModel\n",
    "import os, glob\n",
    "import config\n",
    "import whisper"
   ]
  },
  {
   "cell_type": "code",
   "execution_count": 7,
   "metadata": {},
   "outputs": [
    {
     "name": "stderr",
     "output_type": "stream",
     "text": [
      "model.bin: 100%|██████████| 3.09G/3.09G [05:56<00:00, 8.66MB/s]\n"
     ]
    },
    {
     "ename": "ValueError",
     "evalue": "Requested float16 compute type, but the target device or backend do not support efficient float16 computation.",
     "output_type": "error",
     "traceback": [
      "\u001b[1;31m---------------------------------------------------------------------------\u001b[0m",
      "\u001b[1;31mValueError\u001b[0m                                Traceback (most recent call last)",
      "\u001b[1;32mc:\\Users\\simon\\Desktop\\AS_live_transcription\\transcriber.py\u001b[0m in \u001b[0;36mline 5\n\u001b[0;32m      <a href='file:///c%3A/Users/simon/Desktop/AS_live_transcription/transcriber.py?line=8'>9</a>\u001b[0m model_size \u001b[39m=\u001b[39m \u001b[39m\"\u001b[39m\u001b[39mlarge-v3\u001b[39m\u001b[39m\"\u001b[39m\n\u001b[0;32m      <a href='file:///c%3A/Users/simon/Desktop/AS_live_transcription/transcriber.py?line=10'>11</a>\u001b[0m \u001b[39m# Run on CPU\u001b[39;00m\n\u001b[1;32m----> <a href='file:///c%3A/Users/simon/Desktop/AS_live_transcription/transcriber.py?line=11'>12</a>\u001b[0m model \u001b[39m=\u001b[39m WhisperModel(model_size, device\u001b[39m=\u001b[39;49m\u001b[39m\"\u001b[39;49m\u001b[39mcpu\u001b[39;49m\u001b[39m\"\u001b[39;49m, compute_type\u001b[39m=\u001b[39;49m\u001b[39m\"\u001b[39;49m\u001b[39mfloat16\u001b[39;49m\u001b[39m\"\u001b[39;49m)\n",
      "File \u001b[1;32m~\\AppData\\Local\\Packages\\PythonSoftwareFoundation.Python.3.11_qbz5n2kfra8p0\\LocalCache\\local-packages\\Python311\\site-packages\\faster_whisper\\transcribe.py:130\u001b[0m, in \u001b[0;36mWhisperModel.__init__\u001b[1;34m(self, model_size_or_path, device, device_index, compute_type, cpu_threads, num_workers, download_root, local_files_only)\u001b[0m\n\u001b[0;32m    <a href='file:///c%3A/Users/simon/AppData/Local/Packages/PythonSoftwareFoundation.Python.3.11_qbz5n2kfra8p0/LocalCache/local-packages/Python311/site-packages/faster_whisper/transcribe.py?line=122'>123</a>\u001b[0m \u001b[39melse\u001b[39;00m:\n\u001b[0;32m    <a href='file:///c%3A/Users/simon/AppData/Local/Packages/PythonSoftwareFoundation.Python.3.11_qbz5n2kfra8p0/LocalCache/local-packages/Python311/site-packages/faster_whisper/transcribe.py?line=123'>124</a>\u001b[0m     model_path \u001b[39m=\u001b[39m download_model(\n\u001b[0;32m    <a href='file:///c%3A/Users/simon/AppData/Local/Packages/PythonSoftwareFoundation.Python.3.11_qbz5n2kfra8p0/LocalCache/local-packages/Python311/site-packages/faster_whisper/transcribe.py?line=124'>125</a>\u001b[0m         model_size_or_path,\n\u001b[0;32m    <a href='file:///c%3A/Users/simon/AppData/Local/Packages/PythonSoftwareFoundation.Python.3.11_qbz5n2kfra8p0/LocalCache/local-packages/Python311/site-packages/faster_whisper/transcribe.py?line=125'>126</a>\u001b[0m         local_files_only\u001b[39m=\u001b[39mlocal_files_only,\n\u001b[0;32m    <a href='file:///c%3A/Users/simon/AppData/Local/Packages/PythonSoftwareFoundation.Python.3.11_qbz5n2kfra8p0/LocalCache/local-packages/Python311/site-packages/faster_whisper/transcribe.py?line=126'>127</a>\u001b[0m         cache_dir\u001b[39m=\u001b[39mdownload_root,\n\u001b[0;32m    <a href='file:///c%3A/Users/simon/AppData/Local/Packages/PythonSoftwareFoundation.Python.3.11_qbz5n2kfra8p0/LocalCache/local-packages/Python311/site-packages/faster_whisper/transcribe.py?line=127'>128</a>\u001b[0m     )\n\u001b[1;32m--> <a href='file:///c%3A/Users/simon/AppData/Local/Packages/PythonSoftwareFoundation.Python.3.11_qbz5n2kfra8p0/LocalCache/local-packages/Python311/site-packages/faster_whisper/transcribe.py?line=129'>130</a>\u001b[0m \u001b[39mself\u001b[39m\u001b[39m.\u001b[39mmodel \u001b[39m=\u001b[39m ctranslate2\u001b[39m.\u001b[39;49mmodels\u001b[39m.\u001b[39;49mWhisper(\n\u001b[0;32m    <a href='file:///c%3A/Users/simon/AppData/Local/Packages/PythonSoftwareFoundation.Python.3.11_qbz5n2kfra8p0/LocalCache/local-packages/Python311/site-packages/faster_whisper/transcribe.py?line=130'>131</a>\u001b[0m     model_path,\n\u001b[0;32m    <a href='file:///c%3A/Users/simon/AppData/Local/Packages/PythonSoftwareFoundation.Python.3.11_qbz5n2kfra8p0/LocalCache/local-packages/Python311/site-packages/faster_whisper/transcribe.py?line=131'>132</a>\u001b[0m     device\u001b[39m=\u001b[39;49mdevice,\n\u001b[0;32m    <a href='file:///c%3A/Users/simon/AppData/Local/Packages/PythonSoftwareFoundation.Python.3.11_qbz5n2kfra8p0/LocalCache/local-packages/Python311/site-packages/faster_whisper/transcribe.py?line=132'>133</a>\u001b[0m     device_index\u001b[39m=\u001b[39;49mdevice_index,\n\u001b[0;32m    <a href='file:///c%3A/Users/simon/AppData/Local/Packages/PythonSoftwareFoundation.Python.3.11_qbz5n2kfra8p0/LocalCache/local-packages/Python311/site-packages/faster_whisper/transcribe.py?line=133'>134</a>\u001b[0m     compute_type\u001b[39m=\u001b[39;49mcompute_type,\n\u001b[0;32m    <a href='file:///c%3A/Users/simon/AppData/Local/Packages/PythonSoftwareFoundation.Python.3.11_qbz5n2kfra8p0/LocalCache/local-packages/Python311/site-packages/faster_whisper/transcribe.py?line=134'>135</a>\u001b[0m     intra_threads\u001b[39m=\u001b[39;49mcpu_threads,\n\u001b[0;32m    <a href='file:///c%3A/Users/simon/AppData/Local/Packages/PythonSoftwareFoundation.Python.3.11_qbz5n2kfra8p0/LocalCache/local-packages/Python311/site-packages/faster_whisper/transcribe.py?line=135'>136</a>\u001b[0m     inter_threads\u001b[39m=\u001b[39;49mnum_workers,\n\u001b[0;32m    <a href='file:///c%3A/Users/simon/AppData/Local/Packages/PythonSoftwareFoundation.Python.3.11_qbz5n2kfra8p0/LocalCache/local-packages/Python311/site-packages/faster_whisper/transcribe.py?line=136'>137</a>\u001b[0m )\n\u001b[0;32m    <a href='file:///c%3A/Users/simon/AppData/Local/Packages/PythonSoftwareFoundation.Python.3.11_qbz5n2kfra8p0/LocalCache/local-packages/Python311/site-packages/faster_whisper/transcribe.py?line=138'>139</a>\u001b[0m tokenizer_file \u001b[39m=\u001b[39m os\u001b[39m.\u001b[39mpath\u001b[39m.\u001b[39mjoin(model_path, \u001b[39m\"\u001b[39m\u001b[39mtokenizer.json\u001b[39m\u001b[39m\"\u001b[39m)\n\u001b[0;32m    <a href='file:///c%3A/Users/simon/AppData/Local/Packages/PythonSoftwareFoundation.Python.3.11_qbz5n2kfra8p0/LocalCache/local-packages/Python311/site-packages/faster_whisper/transcribe.py?line=139'>140</a>\u001b[0m \u001b[39mif\u001b[39;00m os\u001b[39m.\u001b[39mpath\u001b[39m.\u001b[39misfile(tokenizer_file):\n",
      "\u001b[1;31mValueError\u001b[0m: Requested float16 compute type, but the target device or backend do not support efficient float16 computation."
     ]
    }
   ],
   "source": [
    "model_size = \"large-v3\"\n",
    "\n",
    "# Run on CPU\n",
    "model = WhisperModel(model_size, device=\"cpu\", compute_type=\"float16\")"
   ]
  },
  {
   "cell_type": "code",
   "execution_count": 8,
   "metadata": {},
   "outputs": [
    {
     "name": "stdout",
     "output_type": "stream",
     "text": [
      "Collecting sounddevice\n",
      "  Downloading sounddevice-0.4.6-py3-none-win_amd64.whl (199 kB)\n",
      "     ---------------------------------------- 0.0/199.7 kB ? eta -:--:--\n",
      "     ---------------------------------------- 0.0/199.7 kB ? eta -:--:--\n",
      "     -- ------------------------------------- 10.2/199.7 kB ? eta -:--:--\n",
      "     ----------- ------------------------- 61.4/199.7 kB 544.7 kB/s eta 0:00:01\n",
      "     -------------------------------------- 199.7/199.7 kB 1.3 MB/s eta 0:00:00\n",
      "Requirement already satisfied: CFFI>=1.0 in c:\\users\\simon\\appdata\\local\\packages\\pythonsoftwarefoundation.python.3.11_qbz5n2kfra8p0\\localcache\\local-packages\\python311\\site-packages (from sounddevice) (1.16.0)\n",
      "Requirement already satisfied: pycparser in c:\\users\\simon\\appdata\\local\\packages\\pythonsoftwarefoundation.python.3.11_qbz5n2kfra8p0\\localcache\\local-packages\\python311\\site-packages (from CFFI>=1.0->sounddevice) (2.21)\n",
      "Installing collected packages: sounddevice\n",
      "Successfully installed sounddevice-0.4.6\n"
     ]
    }
   ],
   "source": [
    "!pip install sounddevice"
   ]
  },
  {
   "cell_type": "code",
   "execution_count": 9,
   "metadata": {},
   "outputs": [
    {
     "name": "stdout",
     "output_type": "stream",
     "text": [
      "Collecting wavio\n",
      "  Downloading wavio-0.0.8-py3-none-any.whl.metadata (5.7 kB)\n",
      "Requirement already satisfied: numpy>=1.19.0 in c:\\users\\simon\\appdata\\local\\packages\\pythonsoftwarefoundation.python.3.11_qbz5n2kfra8p0\\localcache\\local-packages\\python311\\site-packages (from wavio) (1.26.0)\n",
      "Downloading wavio-0.0.8-py3-none-any.whl (9.4 kB)\n",
      "Installing collected packages: wavio\n",
      "Successfully installed wavio-0.0.8\n"
     ]
    }
   ],
   "source": [
    "!pip install wavio"
   ]
  },
  {
   "cell_type": "code",
   "execution_count": null,
   "metadata": {},
   "outputs": [
    {
     "ename": "",
     "evalue": "",
     "output_type": "error",
     "traceback": [
      "\u001b[1;31mCell was canceled due to an error in a previous cell."
     ]
    }
   ],
   "source": [
    "import sounddevice as sd\n",
    "import wavio as wv\n",
    "import datetime"
   ]
  },
  {
   "cell_type": "code",
   "execution_count": 10,
   "metadata": {},
   "outputs": [],
   "source": [
    "from faster_whisper import WhisperModel\n",
    "import os, glob\n",
    "import config\n",
    "import whisper"
   ]
  },
  {
   "cell_type": "code",
   "execution_count": 11,
   "metadata": {},
   "outputs": [],
   "source": [
    "import sounddevice as sd\n",
    "import wavio as wv\n",
    "import datetime\n",
    "import numpy as np"
   ]
  },
  {
   "cell_type": "code",
   "execution_count": 12,
   "metadata": {},
   "outputs": [
    {
     "name": "stdout",
     "output_type": "stream",
     "text": [
      "Recording...\n"
     ]
    },
    {
     "ename": "AttributeError",
     "evalue": "module 'wavio' has no attribute 'wrrite'",
     "output_type": "error",
     "traceback": [
      "\u001b[1;31m---------------------------------------------------------------------------\u001b[0m",
      "\u001b[1;31mAttributeError\u001b[0m                            Traceback (most recent call last)",
      "\u001b[1;32mc:\\Users\\simon\\Desktop\\AS_live_transcription\\recorder.py\u001b[0m in \u001b[0;36mline 16\n\u001b[0;32m     <a href='file:///c%3A/Users/simon/Desktop/AS_live_transcription/recorder.py?line=18'>19</a>\u001b[0m \u001b[39m# Record audio for the specified number of seconds\u001b[39;00m\n\u001b[0;32m     <a href='file:///c%3A/Users/simon/Desktop/AS_live_transcription/recorder.py?line=19'>20</a>\u001b[0m sd\u001b[39m.\u001b[39mwait()\n\u001b[1;32m---> <a href='file:///c%3A/Users/simon/Desktop/AS_live_transcription/recorder.py?line=21'>22</a>\u001b[0m wv\u001b[39m.\u001b[39;49mwrrite(\u001b[39mf\u001b[39m\u001b[39m\"\u001b[39m\u001b[39m./recordings/\u001b[39m\u001b[39m{\u001b[39;00mfilename\u001b[39m}\u001b[39;00m\u001b[39m.wav\u001b[39m\u001b[39m\"\u001b[39m, recording, freq, sampwidth\u001b[39m=\u001b[39m\u001b[39m2\u001b[39m)\n",
      "\u001b[1;31mAttributeError\u001b[0m: module 'wavio' has no attribute 'wrrite'"
     ]
    }
   ],
   "source": [
    "freq = 44100\n",
    "duration = 5\n",
    "\n",
    "print(\"Recording...\")\n",
    "\n",
    "while True:\n",
    "    ts = datetime.datetime.now()\n",
    "    filename = ts.strftime(\"%Y-%m-%d_%H-%M-%S\")\n",
    "\n",
    "    recording = sd.rec(int(duration * freq), samplerate=freq, channels=1)\n",
    "\n",
    "    # Record audio for the specified number of seconds\n",
    "    sd.wait()\n",
    "\n",
    "    wv.wrrite(f\"./recordings/{filename}.wav\", recording, freq, sampwidth=2)"
   ]
  },
  {
   "cell_type": "code",
   "execution_count": 13,
   "metadata": {},
   "outputs": [
    {
     "name": "stdout",
     "output_type": "stream",
     "text": [
      "Recording...\n"
     ]
    },
    {
     "ename": "FileNotFoundError",
     "evalue": "[Errno 2] No such file or directory: './recordings/2023-12-14_12-17-13.wav'",
     "output_type": "error",
     "traceback": [
      "\u001b[1;31m---------------------------------------------------------------------------\u001b[0m",
      "\u001b[1;31mFileNotFoundError\u001b[0m                         Traceback (most recent call last)",
      "\u001b[1;32mc:\\Users\\simon\\Desktop\\AS_live_transcription\\recorder.py\u001b[0m in \u001b[0;36mline 16\n\u001b[0;32m     <a href='file:///c%3A/Users/simon/Desktop/AS_live_transcription/recorder.py?line=18'>19</a>\u001b[0m \u001b[39m# Record audio for the specified number of seconds\u001b[39;00m\n\u001b[0;32m     <a href='file:///c%3A/Users/simon/Desktop/AS_live_transcription/recorder.py?line=19'>20</a>\u001b[0m sd\u001b[39m.\u001b[39mwait()\n\u001b[1;32m---> <a href='file:///c%3A/Users/simon/Desktop/AS_live_transcription/recorder.py?line=21'>22</a>\u001b[0m wv\u001b[39m.\u001b[39;49mwrite(\u001b[39mf\u001b[39;49m\u001b[39m\"\u001b[39;49m\u001b[39m./recordings/\u001b[39;49m\u001b[39m{\u001b[39;49;00mfilename\u001b[39m}\u001b[39;49;00m\u001b[39m.wav\u001b[39;49m\u001b[39m\"\u001b[39;49m, recording, freq, sampwidth\u001b[39m=\u001b[39;49m\u001b[39m2\u001b[39;49m)\n",
      "File \u001b[1;32m~\\AppData\\Local\\Packages\\PythonSoftwareFoundation.Python.3.11_qbz5n2kfra8p0\\LocalCache\\local-packages\\Python311\\site-packages\\wavio.py:470\u001b[0m, in \u001b[0;36mwrite\u001b[1;34m(file, data, rate, scale, sampwidth, clip)\u001b[0m\n\u001b[0;32m    <a href='file:///c%3A/Users/simon/AppData/Local/Packages/PythonSoftwareFoundation.Python.3.11_qbz5n2kfra8p0/LocalCache/local-packages/Python311/site-packages/wavio.py?line=465'>466</a>\u001b[0m     data \u001b[39m=\u001b[39m data\u001b[39m.\u001b[39mreshape(\u001b[39m-\u001b[39m\u001b[39m1\u001b[39m, \u001b[39m1\u001b[39m)\n\u001b[0;32m    <a href='file:///c%3A/Users/simon/AppData/Local/Packages/PythonSoftwareFoundation.Python.3.11_qbz5n2kfra8p0/LocalCache/local-packages/Python311/site-packages/wavio.py?line=467'>468</a>\u001b[0m wavdata \u001b[39m=\u001b[39m _array2wav(data, sampwidth)\n\u001b[1;32m--> <a href='file:///c%3A/Users/simon/AppData/Local/Packages/PythonSoftwareFoundation.Python.3.11_qbz5n2kfra8p0/LocalCache/local-packages/Python311/site-packages/wavio.py?line=469'>470</a>\u001b[0m w \u001b[39m=\u001b[39m _wave\u001b[39m.\u001b[39;49mopen(file, \u001b[39m'\u001b[39;49m\u001b[39mwb\u001b[39;49m\u001b[39m'\u001b[39;49m)\n\u001b[0;32m    <a href='file:///c%3A/Users/simon/AppData/Local/Packages/PythonSoftwareFoundation.Python.3.11_qbz5n2kfra8p0/LocalCache/local-packages/Python311/site-packages/wavio.py?line=470'>471</a>\u001b[0m w\u001b[39m.\u001b[39msetnchannels(data\u001b[39m.\u001b[39mshape[\u001b[39m1\u001b[39m])\n\u001b[0;32m    <a href='file:///c%3A/Users/simon/AppData/Local/Packages/PythonSoftwareFoundation.Python.3.11_qbz5n2kfra8p0/LocalCache/local-packages/Python311/site-packages/wavio.py?line=471'>472</a>\u001b[0m w\u001b[39m.\u001b[39msetsampwidth(sampwidth)\n",
      "File \u001b[1;32mC:\\Program Files\\WindowsApps\\PythonSoftwareFoundation.Python.3.11_3.11.2032.0_x64__qbz5n2kfra8p0\\Lib\\wave.py:633\u001b[0m, in \u001b[0;36mopen\u001b[1;34m(f, mode)\u001b[0m\n\u001b[0;32m    <a href='file:///c%3A/Program%20Files/WindowsApps/PythonSoftwareFoundation.Python.3.11_3.11.2032.0_x64__qbz5n2kfra8p0/Lib/wave.py?line=630'>631</a>\u001b[0m     \u001b[39mreturn\u001b[39;00m Wave_read(f)\n\u001b[0;32m    <a href='file:///c%3A/Program%20Files/WindowsApps/PythonSoftwareFoundation.Python.3.11_3.11.2032.0_x64__qbz5n2kfra8p0/Lib/wave.py?line=631'>632</a>\u001b[0m \u001b[39melif\u001b[39;00m mode \u001b[39min\u001b[39;00m (\u001b[39m'\u001b[39m\u001b[39mw\u001b[39m\u001b[39m'\u001b[39m, \u001b[39m'\u001b[39m\u001b[39mwb\u001b[39m\u001b[39m'\u001b[39m):\n\u001b[1;32m--> <a href='file:///c%3A/Program%20Files/WindowsApps/PythonSoftwareFoundation.Python.3.11_3.11.2032.0_x64__qbz5n2kfra8p0/Lib/wave.py?line=632'>633</a>\u001b[0m     \u001b[39mreturn\u001b[39;00m Wave_write(f)\n\u001b[0;32m    <a href='file:///c%3A/Program%20Files/WindowsApps/PythonSoftwareFoundation.Python.3.11_3.11.2032.0_x64__qbz5n2kfra8p0/Lib/wave.py?line=633'>634</a>\u001b[0m \u001b[39melse\u001b[39;00m:\n\u001b[0;32m    <a href='file:///c%3A/Program%20Files/WindowsApps/PythonSoftwareFoundation.Python.3.11_3.11.2032.0_x64__qbz5n2kfra8p0/Lib/wave.py?line=634'>635</a>\u001b[0m     \u001b[39mraise\u001b[39;00m Error(\u001b[39m\"\u001b[39m\u001b[39mmode must be \u001b[39m\u001b[39m'\u001b[39m\u001b[39mr\u001b[39m\u001b[39m'\u001b[39m\u001b[39m, \u001b[39m\u001b[39m'\u001b[39m\u001b[39mrb\u001b[39m\u001b[39m'\u001b[39m\u001b[39m, \u001b[39m\u001b[39m'\u001b[39m\u001b[39mw\u001b[39m\u001b[39m'\u001b[39m\u001b[39m, or \u001b[39m\u001b[39m'\u001b[39m\u001b[39mwb\u001b[39m\u001b[39m'\u001b[39m\u001b[39m\"\u001b[39m)\n",
      "File \u001b[1;32mC:\\Program Files\\WindowsApps\\PythonSoftwareFoundation.Python.3.11_3.11.2032.0_x64__qbz5n2kfra8p0\\Lib\\wave.py:425\u001b[0m, in \u001b[0;36mWave_write.__init__\u001b[1;34m(self, f)\u001b[0m\n\u001b[0;32m    <a href='file:///c%3A/Program%20Files/WindowsApps/PythonSoftwareFoundation.Python.3.11_3.11.2032.0_x64__qbz5n2kfra8p0/Lib/wave.py?line=422'>423</a>\u001b[0m \u001b[39mself\u001b[39m\u001b[39m.\u001b[39m_i_opened_the_file \u001b[39m=\u001b[39m \u001b[39mNone\u001b[39;00m\n\u001b[0;32m    <a href='file:///c%3A/Program%20Files/WindowsApps/PythonSoftwareFoundation.Python.3.11_3.11.2032.0_x64__qbz5n2kfra8p0/Lib/wave.py?line=423'>424</a>\u001b[0m \u001b[39mif\u001b[39;00m \u001b[39misinstance\u001b[39m(f, \u001b[39mstr\u001b[39m):\n\u001b[1;32m--> <a href='file:///c%3A/Program%20Files/WindowsApps/PythonSoftwareFoundation.Python.3.11_3.11.2032.0_x64__qbz5n2kfra8p0/Lib/wave.py?line=424'>425</a>\u001b[0m     f \u001b[39m=\u001b[39m builtins\u001b[39m.\u001b[39;49mopen(f, \u001b[39m'\u001b[39;49m\u001b[39mwb\u001b[39;49m\u001b[39m'\u001b[39;49m)\n\u001b[0;32m    <a href='file:///c%3A/Program%20Files/WindowsApps/PythonSoftwareFoundation.Python.3.11_3.11.2032.0_x64__qbz5n2kfra8p0/Lib/wave.py?line=425'>426</a>\u001b[0m     \u001b[39mself\u001b[39m\u001b[39m.\u001b[39m_i_opened_the_file \u001b[39m=\u001b[39m f\n\u001b[0;32m    <a href='file:///c%3A/Program%20Files/WindowsApps/PythonSoftwareFoundation.Python.3.11_3.11.2032.0_x64__qbz5n2kfra8p0/Lib/wave.py?line=426'>427</a>\u001b[0m \u001b[39mtry\u001b[39;00m:\n",
      "\u001b[1;31mFileNotFoundError\u001b[0m: [Errno 2] No such file or directory: './recordings/2023-12-14_12-17-13.wav'"
     ]
    }
   ],
   "source": [
    "freq = 44100\n",
    "duration = 5\n",
    "\n",
    "print(\"Recording...\")\n",
    "\n",
    "while True:\n",
    "    ts = datetime.datetime.now()\n",
    "    filename = ts.strftime(\"%Y-%m-%d_%H-%M-%S\")\n",
    "\n",
    "    recording = sd.rec(int(duration * freq), samplerate=freq, channels=1)\n",
    "\n",
    "    # Record audio for the specified number of seconds\n",
    "    sd.wait()\n",
    "\n",
    "    wv.write(f\"./recordings/{filename}.wav\", recording, freq, sampwidth=2)"
   ]
  },
  {
   "cell_type": "code",
   "execution_count": 14,
   "metadata": {},
   "outputs": [
    {
     "name": "stdout",
     "output_type": "stream",
     "text": [
      "Recording...\n"
     ]
    },
    {
     "name": "stderr",
     "output_type": "stream",
     "text": [
      "Exception ignored in: <function Wave_write.__del__ at 0x0000026DDA927600>\n",
      "Traceback (most recent call last):\n",
      "  File \"C:\\Program Files\\WindowsApps\\PythonSoftwareFoundation.Python.3.11_3.11.2032.0_x64__qbz5n2kfra8p0\\Lib\\wave.py\", line 447, in __del__\n",
      "    self.close()\n",
      "  File \"C:\\Program Files\\WindowsApps\\PythonSoftwareFoundation.Python.3.11_3.11.2032.0_x64__qbz5n2kfra8p0\\Lib\\wave.py\", line 564, in close\n",
      "    if self._file:\n",
      "       ^^^^^^^^^^\n",
      "AttributeError: 'Wave_write' object has no attribute '_file'\n"
     ]
    },
    {
     "ename": "KeyboardInterrupt",
     "evalue": "",
     "output_type": "error",
     "traceback": [
      "\u001b[1;31m---------------------------------------------------------------------------\u001b[0m",
      "\u001b[1;31mKeyboardInterrupt\u001b[0m                         Traceback (most recent call last)",
      "\u001b[1;32mc:\\Users\\simon\\Desktop\\AS_live_transcription\\recorder.py\u001b[0m in \u001b[0;36mline 14\n\u001b[0;32m     <a href='file:///c%3A/Users/simon/Desktop/AS_live_transcription/recorder.py?line=16'>17</a>\u001b[0m recording \u001b[39m=\u001b[39m sd\u001b[39m.\u001b[39mrec(\u001b[39mint\u001b[39m(duration \u001b[39m*\u001b[39m freq), samplerate\u001b[39m=\u001b[39mfreq, channels\u001b[39m=\u001b[39m\u001b[39m1\u001b[39m)\n\u001b[0;32m     <a href='file:///c%3A/Users/simon/Desktop/AS_live_transcription/recorder.py?line=18'>19</a>\u001b[0m \u001b[39m# Record audio for the specified number of seconds\u001b[39;00m\n\u001b[1;32m---> <a href='file:///c%3A/Users/simon/Desktop/AS_live_transcription/recorder.py?line=19'>20</a>\u001b[0m sd\u001b[39m.\u001b[39;49mwait()\n\u001b[0;32m     <a href='file:///c%3A/Users/simon/Desktop/AS_live_transcription/recorder.py?line=21'>22</a>\u001b[0m wv\u001b[39m.\u001b[39mwrite(\u001b[39mf\u001b[39m\u001b[39m\"\u001b[39m\u001b[39m./recordings/\u001b[39m\u001b[39m{\u001b[39;00mfilename\u001b[39m}\u001b[39;00m\u001b[39m.wav\u001b[39m\u001b[39m\"\u001b[39m, recording, freq, sampwidth\u001b[39m=\u001b[39m\u001b[39m2\u001b[39m)\n",
      "File \u001b[1;32m~\\AppData\\Local\\Packages\\PythonSoftwareFoundation.Python.3.11_qbz5n2kfra8p0\\LocalCache\\local-packages\\Python311\\site-packages\\sounddevice.py:395\u001b[0m, in \u001b[0;36mwait\u001b[1;34m(ignore_errors)\u001b[0m\n\u001b[0;32m    <a href='file:///c%3A/Users/simon/AppData/Local/Packages/PythonSoftwareFoundation.Python.3.11_qbz5n2kfra8p0/LocalCache/local-packages/Python311/site-packages/sounddevice.py?line=378'>379</a>\u001b[0m \u001b[39m\u001b[39m\u001b[39m\"\"\"Wait for `play()`/`rec()`/`playrec()` to be finished.\u001b[39;00m\n\u001b[0;32m    <a href='file:///c%3A/Users/simon/AppData/Local/Packages/PythonSoftwareFoundation.Python.3.11_qbz5n2kfra8p0/LocalCache/local-packages/Python311/site-packages/sounddevice.py?line=379'>380</a>\u001b[0m \n\u001b[0;32m    <a href='file:///c%3A/Users/simon/AppData/Local/Packages/PythonSoftwareFoundation.Python.3.11_qbz5n2kfra8p0/LocalCache/local-packages/Python311/site-packages/sounddevice.py?line=380'>381</a>\u001b[0m \u001b[39mPlayback/recording can be stopped with a `KeyboardInterrupt`.\u001b[39;00m\n\u001b[1;32m   (...)\u001b[0m\n\u001b[0;32m    <a href='file:///c%3A/Users/simon/AppData/Local/Packages/PythonSoftwareFoundation.Python.3.11_qbz5n2kfra8p0/LocalCache/local-packages/Python311/site-packages/sounddevice.py?line=391'>392</a>\u001b[0m \n\u001b[0;32m    <a href='file:///c%3A/Users/simon/AppData/Local/Packages/PythonSoftwareFoundation.Python.3.11_qbz5n2kfra8p0/LocalCache/local-packages/Python311/site-packages/sounddevice.py?line=392'>393</a>\u001b[0m \u001b[39m\"\"\"\u001b[39;00m\n\u001b[0;32m    <a href='file:///c%3A/Users/simon/AppData/Local/Packages/PythonSoftwareFoundation.Python.3.11_qbz5n2kfra8p0/LocalCache/local-packages/Python311/site-packages/sounddevice.py?line=393'>394</a>\u001b[0m \u001b[39mif\u001b[39;00m _last_callback:\n\u001b[1;32m--> <a href='file:///c%3A/Users/simon/AppData/Local/Packages/PythonSoftwareFoundation.Python.3.11_qbz5n2kfra8p0/LocalCache/local-packages/Python311/site-packages/sounddevice.py?line=394'>395</a>\u001b[0m     \u001b[39mreturn\u001b[39;00m _last_callback\u001b[39m.\u001b[39;49mwait(ignore_errors)\n",
      "File \u001b[1;32m~\\AppData\\Local\\Packages\\PythonSoftwareFoundation.Python.3.11_qbz5n2kfra8p0\\LocalCache\\local-packages\\Python311\\site-packages\\sounddevice.py:2601\u001b[0m, in \u001b[0;36m_CallbackContext.wait\u001b[1;34m(self, ignore_errors)\u001b[0m\n\u001b[0;32m   <a href='file:///c%3A/Users/simon/AppData/Local/Packages/PythonSoftwareFoundation.Python.3.11_qbz5n2kfra8p0/LocalCache/local-packages/Python311/site-packages/sounddevice.py?line=2594'>2595</a>\u001b[0m \u001b[39m\u001b[39m\u001b[39m\"\"\"Wait for finished_callback.\u001b[39;00m\n\u001b[0;32m   <a href='file:///c%3A/Users/simon/AppData/Local/Packages/PythonSoftwareFoundation.Python.3.11_qbz5n2kfra8p0/LocalCache/local-packages/Python311/site-packages/sounddevice.py?line=2595'>2596</a>\u001b[0m \n\u001b[0;32m   <a href='file:///c%3A/Users/simon/AppData/Local/Packages/PythonSoftwareFoundation.Python.3.11_qbz5n2kfra8p0/LocalCache/local-packages/Python311/site-packages/sounddevice.py?line=2596'>2597</a>\u001b[0m \u001b[39mCan be interrupted with a KeyboardInterrupt.\u001b[39;00m\n\u001b[0;32m   <a href='file:///c%3A/Users/simon/AppData/Local/Packages/PythonSoftwareFoundation.Python.3.11_qbz5n2kfra8p0/LocalCache/local-packages/Python311/site-packages/sounddevice.py?line=2597'>2598</a>\u001b[0m \n\u001b[0;32m   <a href='file:///c%3A/Users/simon/AppData/Local/Packages/PythonSoftwareFoundation.Python.3.11_qbz5n2kfra8p0/LocalCache/local-packages/Python311/site-packages/sounddevice.py?line=2598'>2599</a>\u001b[0m \u001b[39m\"\"\"\u001b[39;00m\n\u001b[0;32m   <a href='file:///c%3A/Users/simon/AppData/Local/Packages/PythonSoftwareFoundation.Python.3.11_qbz5n2kfra8p0/LocalCache/local-packages/Python311/site-packages/sounddevice.py?line=2599'>2600</a>\u001b[0m \u001b[39mtry\u001b[39;00m:\n\u001b[1;32m-> <a href='file:///c%3A/Users/simon/AppData/Local/Packages/PythonSoftwareFoundation.Python.3.11_qbz5n2kfra8p0/LocalCache/local-packages/Python311/site-packages/sounddevice.py?line=2600'>2601</a>\u001b[0m     \u001b[39mself\u001b[39;49m\u001b[39m.\u001b[39;49mevent\u001b[39m.\u001b[39;49mwait()\n\u001b[0;32m   <a href='file:///c%3A/Users/simon/AppData/Local/Packages/PythonSoftwareFoundation.Python.3.11_qbz5n2kfra8p0/LocalCache/local-packages/Python311/site-packages/sounddevice.py?line=2601'>2602</a>\u001b[0m \u001b[39mfinally\u001b[39;00m:\n\u001b[0;32m   <a href='file:///c%3A/Users/simon/AppData/Local/Packages/PythonSoftwareFoundation.Python.3.11_qbz5n2kfra8p0/LocalCache/local-packages/Python311/site-packages/sounddevice.py?line=2602'>2603</a>\u001b[0m     \u001b[39mself\u001b[39m\u001b[39m.\u001b[39mstream\u001b[39m.\u001b[39mclose(ignore_errors)\n",
      "File \u001b[1;32mC:\\Program Files\\WindowsApps\\PythonSoftwareFoundation.Python.3.11_3.11.2032.0_x64__qbz5n2kfra8p0\\Lib\\threading.py:629\u001b[0m, in \u001b[0;36mEvent.wait\u001b[1;34m(self, timeout)\u001b[0m\n\u001b[0;32m    <a href='file:///c%3A/Program%20Files/WindowsApps/PythonSoftwareFoundation.Python.3.11_3.11.2032.0_x64__qbz5n2kfra8p0/Lib/threading.py?line=626'>627</a>\u001b[0m signaled \u001b[39m=\u001b[39m \u001b[39mself\u001b[39m\u001b[39m.\u001b[39m_flag\n\u001b[0;32m    <a href='file:///c%3A/Program%20Files/WindowsApps/PythonSoftwareFoundation.Python.3.11_3.11.2032.0_x64__qbz5n2kfra8p0/Lib/threading.py?line=627'>628</a>\u001b[0m \u001b[39mif\u001b[39;00m \u001b[39mnot\u001b[39;00m signaled:\n\u001b[1;32m--> <a href='file:///c%3A/Program%20Files/WindowsApps/PythonSoftwareFoundation.Python.3.11_3.11.2032.0_x64__qbz5n2kfra8p0/Lib/threading.py?line=628'>629</a>\u001b[0m     signaled \u001b[39m=\u001b[39m \u001b[39mself\u001b[39;49m\u001b[39m.\u001b[39;49m_cond\u001b[39m.\u001b[39;49mwait(timeout)\n\u001b[0;32m    <a href='file:///c%3A/Program%20Files/WindowsApps/PythonSoftwareFoundation.Python.3.11_3.11.2032.0_x64__qbz5n2kfra8p0/Lib/threading.py?line=629'>630</a>\u001b[0m \u001b[39mreturn\u001b[39;00m signaled\n",
      "File \u001b[1;32mC:\\Program Files\\WindowsApps\\PythonSoftwareFoundation.Python.3.11_3.11.2032.0_x64__qbz5n2kfra8p0\\Lib\\threading.py:327\u001b[0m, in \u001b[0;36mCondition.wait\u001b[1;34m(self, timeout)\u001b[0m\n\u001b[0;32m    <a href='file:///c%3A/Program%20Files/WindowsApps/PythonSoftwareFoundation.Python.3.11_3.11.2032.0_x64__qbz5n2kfra8p0/Lib/threading.py?line=324'>325</a>\u001b[0m \u001b[39mtry\u001b[39;00m:    \u001b[39m# restore state no matter what (e.g., KeyboardInterrupt)\u001b[39;00m\n\u001b[0;32m    <a href='file:///c%3A/Program%20Files/WindowsApps/PythonSoftwareFoundation.Python.3.11_3.11.2032.0_x64__qbz5n2kfra8p0/Lib/threading.py?line=325'>326</a>\u001b[0m     \u001b[39mif\u001b[39;00m timeout \u001b[39mis\u001b[39;00m \u001b[39mNone\u001b[39;00m:\n\u001b[1;32m--> <a href='file:///c%3A/Program%20Files/WindowsApps/PythonSoftwareFoundation.Python.3.11_3.11.2032.0_x64__qbz5n2kfra8p0/Lib/threading.py?line=326'>327</a>\u001b[0m         waiter\u001b[39m.\u001b[39;49macquire()\n\u001b[0;32m    <a href='file:///c%3A/Program%20Files/WindowsApps/PythonSoftwareFoundation.Python.3.11_3.11.2032.0_x64__qbz5n2kfra8p0/Lib/threading.py?line=327'>328</a>\u001b[0m         gotit \u001b[39m=\u001b[39m \u001b[39mTrue\u001b[39;00m\n\u001b[0;32m    <a href='file:///c%3A/Program%20Files/WindowsApps/PythonSoftwareFoundation.Python.3.11_3.11.2032.0_x64__qbz5n2kfra8p0/Lib/threading.py?line=328'>329</a>\u001b[0m     \u001b[39melse\u001b[39;00m:\n",
      "\u001b[1;31mKeyboardInterrupt\u001b[0m: "
     ]
    }
   ],
   "source": [
    "freq = 44100\n",
    "duration = 5\n",
    "\n",
    "print(\"Recording...\")\n",
    "\n",
    "while True:\n",
    "    ts = datetime.datetime.now()\n",
    "    filename = ts.strftime(\"%Y-%m-%d_%H-%M-%S\")\n",
    "\n",
    "    recording = sd.rec(int(duration * freq), samplerate=freq, channels=1)\n",
    "\n",
    "    # Record audio for the specified number of seconds\n",
    "    sd.wait()\n",
    "\n",
    "    wv.write(f\"./recordings/{filename}.wav\", recording, freq, sampwidth=2)"
   ]
  },
  {
   "cell_type": "code",
   "execution_count": 15,
   "metadata": {},
   "outputs": [
    {
     "name": "stdout",
     "output_type": "stream",
     "text": [
      "Recording...\n"
     ]
    },
    {
     "ename": "KeyboardInterrupt",
     "evalue": "",
     "output_type": "error",
     "traceback": [
      "\u001b[1;31m---------------------------------------------------------------------------\u001b[0m",
      "\u001b[1;31mKeyboardInterrupt\u001b[0m                         Traceback (most recent call last)",
      "\u001b[1;32mc:\\Users\\simon\\Desktop\\AS_live_transcription\\recorder.py\u001b[0m in \u001b[0;36mline 14\n\u001b[0;32m     <a href='file:///c%3A/Users/simon/Desktop/AS_live_transcription/recorder.py?line=16'>17</a>\u001b[0m recording \u001b[39m=\u001b[39m sd\u001b[39m.\u001b[39mrec(\u001b[39mint\u001b[39m(duration \u001b[39m*\u001b[39m freq), samplerate\u001b[39m=\u001b[39mfreq, channels\u001b[39m=\u001b[39m\u001b[39m1\u001b[39m)\n\u001b[0;32m     <a href='file:///c%3A/Users/simon/Desktop/AS_live_transcription/recorder.py?line=18'>19</a>\u001b[0m \u001b[39m# Record audio for the specified number of seconds\u001b[39;00m\n\u001b[1;32m---> <a href='file:///c%3A/Users/simon/Desktop/AS_live_transcription/recorder.py?line=19'>20</a>\u001b[0m sd\u001b[39m.\u001b[39;49mwait()\n\u001b[0;32m     <a href='file:///c%3A/Users/simon/Desktop/AS_live_transcription/recorder.py?line=21'>22</a>\u001b[0m wv\u001b[39m.\u001b[39mwrite(\u001b[39mf\u001b[39m\u001b[39m\"\u001b[39m\u001b[39m./recordings/\u001b[39m\u001b[39m{\u001b[39;00mfilename\u001b[39m}\u001b[39;00m\u001b[39m.wav\u001b[39m\u001b[39m\"\u001b[39m, recording, freq, sampwidth\u001b[39m=\u001b[39m\u001b[39m2\u001b[39m)\n",
      "File \u001b[1;32m~\\AppData\\Local\\Packages\\PythonSoftwareFoundation.Python.3.11_qbz5n2kfra8p0\\LocalCache\\local-packages\\Python311\\site-packages\\sounddevice.py:395\u001b[0m, in \u001b[0;36mwait\u001b[1;34m(ignore_errors)\u001b[0m\n\u001b[0;32m    <a href='file:///c%3A/Users/simon/AppData/Local/Packages/PythonSoftwareFoundation.Python.3.11_qbz5n2kfra8p0/LocalCache/local-packages/Python311/site-packages/sounddevice.py?line=378'>379</a>\u001b[0m \u001b[39m\u001b[39m\u001b[39m\"\"\"Wait for `play()`/`rec()`/`playrec()` to be finished.\u001b[39;00m\n\u001b[0;32m    <a href='file:///c%3A/Users/simon/AppData/Local/Packages/PythonSoftwareFoundation.Python.3.11_qbz5n2kfra8p0/LocalCache/local-packages/Python311/site-packages/sounddevice.py?line=379'>380</a>\u001b[0m \n\u001b[0;32m    <a href='file:///c%3A/Users/simon/AppData/Local/Packages/PythonSoftwareFoundation.Python.3.11_qbz5n2kfra8p0/LocalCache/local-packages/Python311/site-packages/sounddevice.py?line=380'>381</a>\u001b[0m \u001b[39mPlayback/recording can be stopped with a `KeyboardInterrupt`.\u001b[39;00m\n\u001b[1;32m   (...)\u001b[0m\n\u001b[0;32m    <a href='file:///c%3A/Users/simon/AppData/Local/Packages/PythonSoftwareFoundation.Python.3.11_qbz5n2kfra8p0/LocalCache/local-packages/Python311/site-packages/sounddevice.py?line=391'>392</a>\u001b[0m \n\u001b[0;32m    <a href='file:///c%3A/Users/simon/AppData/Local/Packages/PythonSoftwareFoundation.Python.3.11_qbz5n2kfra8p0/LocalCache/local-packages/Python311/site-packages/sounddevice.py?line=392'>393</a>\u001b[0m \u001b[39m\"\"\"\u001b[39;00m\n\u001b[0;32m    <a href='file:///c%3A/Users/simon/AppData/Local/Packages/PythonSoftwareFoundation.Python.3.11_qbz5n2kfra8p0/LocalCache/local-packages/Python311/site-packages/sounddevice.py?line=393'>394</a>\u001b[0m \u001b[39mif\u001b[39;00m _last_callback:\n\u001b[1;32m--> <a href='file:///c%3A/Users/simon/AppData/Local/Packages/PythonSoftwareFoundation.Python.3.11_qbz5n2kfra8p0/LocalCache/local-packages/Python311/site-packages/sounddevice.py?line=394'>395</a>\u001b[0m     \u001b[39mreturn\u001b[39;00m _last_callback\u001b[39m.\u001b[39;49mwait(ignore_errors)\n",
      "File \u001b[1;32m~\\AppData\\Local\\Packages\\PythonSoftwareFoundation.Python.3.11_qbz5n2kfra8p0\\LocalCache\\local-packages\\Python311\\site-packages\\sounddevice.py:2601\u001b[0m, in \u001b[0;36m_CallbackContext.wait\u001b[1;34m(self, ignore_errors)\u001b[0m\n\u001b[0;32m   <a href='file:///c%3A/Users/simon/AppData/Local/Packages/PythonSoftwareFoundation.Python.3.11_qbz5n2kfra8p0/LocalCache/local-packages/Python311/site-packages/sounddevice.py?line=2594'>2595</a>\u001b[0m \u001b[39m\u001b[39m\u001b[39m\"\"\"Wait for finished_callback.\u001b[39;00m\n\u001b[0;32m   <a href='file:///c%3A/Users/simon/AppData/Local/Packages/PythonSoftwareFoundation.Python.3.11_qbz5n2kfra8p0/LocalCache/local-packages/Python311/site-packages/sounddevice.py?line=2595'>2596</a>\u001b[0m \n\u001b[0;32m   <a href='file:///c%3A/Users/simon/AppData/Local/Packages/PythonSoftwareFoundation.Python.3.11_qbz5n2kfra8p0/LocalCache/local-packages/Python311/site-packages/sounddevice.py?line=2596'>2597</a>\u001b[0m \u001b[39mCan be interrupted with a KeyboardInterrupt.\u001b[39;00m\n\u001b[0;32m   <a href='file:///c%3A/Users/simon/AppData/Local/Packages/PythonSoftwareFoundation.Python.3.11_qbz5n2kfra8p0/LocalCache/local-packages/Python311/site-packages/sounddevice.py?line=2597'>2598</a>\u001b[0m \n\u001b[0;32m   <a href='file:///c%3A/Users/simon/AppData/Local/Packages/PythonSoftwareFoundation.Python.3.11_qbz5n2kfra8p0/LocalCache/local-packages/Python311/site-packages/sounddevice.py?line=2598'>2599</a>\u001b[0m \u001b[39m\"\"\"\u001b[39;00m\n\u001b[0;32m   <a href='file:///c%3A/Users/simon/AppData/Local/Packages/PythonSoftwareFoundation.Python.3.11_qbz5n2kfra8p0/LocalCache/local-packages/Python311/site-packages/sounddevice.py?line=2599'>2600</a>\u001b[0m \u001b[39mtry\u001b[39;00m:\n\u001b[1;32m-> <a href='file:///c%3A/Users/simon/AppData/Local/Packages/PythonSoftwareFoundation.Python.3.11_qbz5n2kfra8p0/LocalCache/local-packages/Python311/site-packages/sounddevice.py?line=2600'>2601</a>\u001b[0m     \u001b[39mself\u001b[39;49m\u001b[39m.\u001b[39;49mevent\u001b[39m.\u001b[39;49mwait()\n\u001b[0;32m   <a href='file:///c%3A/Users/simon/AppData/Local/Packages/PythonSoftwareFoundation.Python.3.11_qbz5n2kfra8p0/LocalCache/local-packages/Python311/site-packages/sounddevice.py?line=2601'>2602</a>\u001b[0m \u001b[39mfinally\u001b[39;00m:\n\u001b[0;32m   <a href='file:///c%3A/Users/simon/AppData/Local/Packages/PythonSoftwareFoundation.Python.3.11_qbz5n2kfra8p0/LocalCache/local-packages/Python311/site-packages/sounddevice.py?line=2602'>2603</a>\u001b[0m     \u001b[39mself\u001b[39m\u001b[39m.\u001b[39mstream\u001b[39m.\u001b[39mclose(ignore_errors)\n",
      "File \u001b[1;32mC:\\Program Files\\WindowsApps\\PythonSoftwareFoundation.Python.3.11_3.11.2032.0_x64__qbz5n2kfra8p0\\Lib\\threading.py:629\u001b[0m, in \u001b[0;36mEvent.wait\u001b[1;34m(self, timeout)\u001b[0m\n\u001b[0;32m    <a href='file:///c%3A/Program%20Files/WindowsApps/PythonSoftwareFoundation.Python.3.11_3.11.2032.0_x64__qbz5n2kfra8p0/Lib/threading.py?line=626'>627</a>\u001b[0m signaled \u001b[39m=\u001b[39m \u001b[39mself\u001b[39m\u001b[39m.\u001b[39m_flag\n\u001b[0;32m    <a href='file:///c%3A/Program%20Files/WindowsApps/PythonSoftwareFoundation.Python.3.11_3.11.2032.0_x64__qbz5n2kfra8p0/Lib/threading.py?line=627'>628</a>\u001b[0m \u001b[39mif\u001b[39;00m \u001b[39mnot\u001b[39;00m signaled:\n\u001b[1;32m--> <a href='file:///c%3A/Program%20Files/WindowsApps/PythonSoftwareFoundation.Python.3.11_3.11.2032.0_x64__qbz5n2kfra8p0/Lib/threading.py?line=628'>629</a>\u001b[0m     signaled \u001b[39m=\u001b[39m \u001b[39mself\u001b[39;49m\u001b[39m.\u001b[39;49m_cond\u001b[39m.\u001b[39;49mwait(timeout)\n\u001b[0;32m    <a href='file:///c%3A/Program%20Files/WindowsApps/PythonSoftwareFoundation.Python.3.11_3.11.2032.0_x64__qbz5n2kfra8p0/Lib/threading.py?line=629'>630</a>\u001b[0m \u001b[39mreturn\u001b[39;00m signaled\n",
      "File \u001b[1;32mC:\\Program Files\\WindowsApps\\PythonSoftwareFoundation.Python.3.11_3.11.2032.0_x64__qbz5n2kfra8p0\\Lib\\threading.py:327\u001b[0m, in \u001b[0;36mCondition.wait\u001b[1;34m(self, timeout)\u001b[0m\n\u001b[0;32m    <a href='file:///c%3A/Program%20Files/WindowsApps/PythonSoftwareFoundation.Python.3.11_3.11.2032.0_x64__qbz5n2kfra8p0/Lib/threading.py?line=324'>325</a>\u001b[0m \u001b[39mtry\u001b[39;00m:    \u001b[39m# restore state no matter what (e.g., KeyboardInterrupt)\u001b[39;00m\n\u001b[0;32m    <a href='file:///c%3A/Program%20Files/WindowsApps/PythonSoftwareFoundation.Python.3.11_3.11.2032.0_x64__qbz5n2kfra8p0/Lib/threading.py?line=325'>326</a>\u001b[0m     \u001b[39mif\u001b[39;00m timeout \u001b[39mis\u001b[39;00m \u001b[39mNone\u001b[39;00m:\n\u001b[1;32m--> <a href='file:///c%3A/Program%20Files/WindowsApps/PythonSoftwareFoundation.Python.3.11_3.11.2032.0_x64__qbz5n2kfra8p0/Lib/threading.py?line=326'>327</a>\u001b[0m         waiter\u001b[39m.\u001b[39;49macquire()\n\u001b[0;32m    <a href='file:///c%3A/Program%20Files/WindowsApps/PythonSoftwareFoundation.Python.3.11_3.11.2032.0_x64__qbz5n2kfra8p0/Lib/threading.py?line=327'>328</a>\u001b[0m         gotit \u001b[39m=\u001b[39m \u001b[39mTrue\u001b[39;00m\n\u001b[0;32m    <a href='file:///c%3A/Program%20Files/WindowsApps/PythonSoftwareFoundation.Python.3.11_3.11.2032.0_x64__qbz5n2kfra8p0/Lib/threading.py?line=328'>329</a>\u001b[0m     \u001b[39melse\u001b[39;00m:\n",
      "\u001b[1;31mKeyboardInterrupt\u001b[0m: "
     ]
    }
   ],
   "source": [
    "freq = 44100\n",
    "duration = 5\n",
    "\n",
    "print(\"Recording...\")\n",
    "\n",
    "while True:\n",
    "    ts = datetime.datetime.now()\n",
    "    filename = ts.strftime(\"%Y-%m-%d_%H-%M-%S\")\n",
    "\n",
    "    recording = sd.rec(int(duration * freq), samplerate=freq, channels=1)\n",
    "\n",
    "    # Record audio for the specified number of seconds\n",
    "    sd.wait()\n",
    "\n",
    "    wv.write(f\"./recordings/{filename}.wav\", recording, freq, sampwidth=2)"
   ]
  },
  {
   "cell_type": "code",
   "execution_count": 16,
   "metadata": {},
   "outputs": [
    {
     "name": "stderr",
     "output_type": "stream",
     "text": [
      "100%|███████████████████████████████████████| 139M/139M [00:22<00:00, 6.46MiB/s]\n"
     ]
    }
   ],
   "source": [
    "model = whisper.load_model(\"base\")"
   ]
  },
  {
   "cell_type": "code",
   "execution_count": 17,
   "metadata": {},
   "outputs": [
    {
     "ename": "NameError",
     "evalue": "name 'recordings_dir' is not defined",
     "output_type": "error",
     "traceback": [
      "\u001b[1;31m---------------------------------------------------------------------------\u001b[0m",
      "\u001b[1;31mNameError\u001b[0m                                 Traceback (most recent call last)",
      "\u001b[1;32mc:\\Users\\simon\\Desktop\\AS_live_transcription\\transcriber.py\u001b[0m in \u001b[0;36mline 8\n\u001b[0;32m      <a href='file:///c%3A/Users/simon/Desktop/AS_live_transcription/transcriber.py?line=19'>20</a>\u001b[0m transcribed \u001b[39m=\u001b[39m []\n\u001b[0;32m      <a href='file:///c%3A/Users/simon/Desktop/AS_live_transcription/transcriber.py?line=21'>22</a>\u001b[0m \u001b[39mwhile\u001b[39;00m \u001b[39mTrue\u001b[39;00m:\n\u001b[0;32m      <a href='file:///c%3A/Users/simon/Desktop/AS_live_transcription/transcriber.py?line=22'>23</a>\u001b[0m     \u001b[39m# get most recent wav recording in the recordings directory\u001b[39;00m\n\u001b[1;32m----> <a href='file:///c%3A/Users/simon/Desktop/AS_live_transcription/transcriber.py?line=23'>24</a>\u001b[0m     files \u001b[39m=\u001b[39m \u001b[39msorted\u001b[39m(glob\u001b[39m.\u001b[39miglob(recordings_dir), key\u001b[39m=\u001b[39mos\u001b[39m.\u001b[39mpath\u001b[39m.\u001b[39mgetctime, reverse\u001b[39m=\u001b[39m\u001b[39mTrue\u001b[39;00m)\n\u001b[0;32m      <a href='file:///c%3A/Users/simon/Desktop/AS_live_transcription/transcriber.py?line=24'>25</a>\u001b[0m     \u001b[39mif\u001b[39;00m \u001b[39mlen\u001b[39m(files) \u001b[39m<\u001b[39m \u001b[39m1\u001b[39m:\n\u001b[0;32m     <a href='file:///c%3A/Users/simon/Desktop/AS_live_transcription/transcriber.py?line=25'>26</a>\u001b[0m         \u001b[39mcontinue\u001b[39;00m\n",
      "\u001b[1;31mNameError\u001b[0m: name 'recordings_dir' is not defined"
     ]
    }
   ],
   "source": [
    "# list to store which wav files have been transcribed\n",
    "transcribed = []\n",
    "\n",
    "while True:\n",
    "    # get most recent wav recording in the recordings directory\n",
    "    files = sorted(glob.iglob(recordings_dir), key=os.path.getctime, reverse=True)\n",
    "    if len(files) < 1:\n",
    "        continue\n",
    "    \n",
    "    latest_recording = files[0]\n",
    "    latest_recording_filename = latest_recording.split('/')[1]\n",
    "\n",
    "    if os.path.exists(latest_recording) and not latest_recording in transcribed:\n",
    "        audio = whisper.load_audio(latest_recording)\n",
    "        audio = whisper.pad_or_trim(audio)\n",
    "        mel = whisper.log_mel_spectrogram(audio).to(model.device)\n",
    "        options = whisper.DecodingOptions(language= 'en', fp16=False)\n",
    "\n",
    "        result = whisper.decode(model, mel, options)\n",
    "\n",
    "        if result.no_speech_prob < 0.5:\n",
    "            print(result.text)\n",
    "\n",
    "            # append text to transcript file\n",
    "            with open(config.TRANSCRIPT_FILE, 'a') as f:\n",
    "                f.write(result.text)\n",
    "        \n",
    "            # save list of transcribed recordings so that we don't transcribe the same one again\n",
    "            transcribed.append(latest_recording)"
   ]
  }
 ],
 "metadata": {
  "kernelspec": {
   "display_name": "Python 3",
   "language": "python",
   "name": "python3"
  },
  "language_info": {
   "codemirror_mode": {
    "name": "ipython",
    "version": 3
   },
   "file_extension": ".py",
   "mimetype": "text/x-python",
   "name": "python",
   "nbconvert_exporter": "python",
   "pygments_lexer": "ipython3",
   "version": "3.11.7"
  }
 },
 "nbformat": 4,
 "nbformat_minor": 2
}
